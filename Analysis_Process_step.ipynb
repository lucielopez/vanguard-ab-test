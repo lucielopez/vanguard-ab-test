{
 "cells": [
  {
   "cell_type": "markdown",
   "id": "207ae54e",
   "metadata": {},
   "source": [
    "### Start : 4 dataframes"
   ]
  },
  {
   "cell_type": "code",
   "execution_count": 233,
   "id": "5035b4d5",
   "metadata": {},
   "outputs": [
    {
     "data": {
      "text/html": [
       "<div>\n",
       "<style scoped>\n",
       "    .dataframe tbody tr th:only-of-type {\n",
       "        vertical-align: middle;\n",
       "    }\n",
       "\n",
       "    .dataframe tbody tr th {\n",
       "        vertical-align: top;\n",
       "    }\n",
       "\n",
       "    .dataframe thead th {\n",
       "        text-align: right;\n",
       "    }\n",
       "</style>\n",
       "<table border=\"1\" class=\"dataframe\">\n",
       "  <thead>\n",
       "    <tr style=\"text-align: right;\">\n",
       "      <th></th>\n",
       "      <th>client_id</th>\n",
       "      <th>clnt_tenure_yr</th>\n",
       "      <th>clnt_tenure_mnth</th>\n",
       "      <th>clnt_age</th>\n",
       "      <th>gendr</th>\n",
       "      <th>num_accts</th>\n",
       "      <th>bal</th>\n",
       "      <th>calls_6_mnth</th>\n",
       "      <th>logons_6_mnth</th>\n",
       "    </tr>\n",
       "  </thead>\n",
       "  <tbody>\n",
       "    <tr>\n",
       "      <th>0</th>\n",
       "      <td>836976</td>\n",
       "      <td>6.0</td>\n",
       "      <td>73.0</td>\n",
       "      <td>60.5</td>\n",
       "      <td>U</td>\n",
       "      <td>2.0</td>\n",
       "      <td>45105.30</td>\n",
       "      <td>6.0</td>\n",
       "      <td>9.0</td>\n",
       "    </tr>\n",
       "    <tr>\n",
       "      <th>1</th>\n",
       "      <td>2304905</td>\n",
       "      <td>7.0</td>\n",
       "      <td>94.0</td>\n",
       "      <td>58.0</td>\n",
       "      <td>U</td>\n",
       "      <td>2.0</td>\n",
       "      <td>110860.30</td>\n",
       "      <td>6.0</td>\n",
       "      <td>9.0</td>\n",
       "    </tr>\n",
       "    <tr>\n",
       "      <th>2</th>\n",
       "      <td>1439522</td>\n",
       "      <td>5.0</td>\n",
       "      <td>64.0</td>\n",
       "      <td>32.0</td>\n",
       "      <td>U</td>\n",
       "      <td>2.0</td>\n",
       "      <td>52467.79</td>\n",
       "      <td>6.0</td>\n",
       "      <td>9.0</td>\n",
       "    </tr>\n",
       "    <tr>\n",
       "      <th>3</th>\n",
       "      <td>1562045</td>\n",
       "      <td>16.0</td>\n",
       "      <td>198.0</td>\n",
       "      <td>49.0</td>\n",
       "      <td>M</td>\n",
       "      <td>2.0</td>\n",
       "      <td>67454.65</td>\n",
       "      <td>3.0</td>\n",
       "      <td>6.0</td>\n",
       "    </tr>\n",
       "    <tr>\n",
       "      <th>4</th>\n",
       "      <td>5126305</td>\n",
       "      <td>12.0</td>\n",
       "      <td>145.0</td>\n",
       "      <td>33.0</td>\n",
       "      <td>F</td>\n",
       "      <td>2.0</td>\n",
       "      <td>103671.75</td>\n",
       "      <td>0.0</td>\n",
       "      <td>3.0</td>\n",
       "    </tr>\n",
       "    <tr>\n",
       "      <th>...</th>\n",
       "      <td>...</td>\n",
       "      <td>...</td>\n",
       "      <td>...</td>\n",
       "      <td>...</td>\n",
       "      <td>...</td>\n",
       "      <td>...</td>\n",
       "      <td>...</td>\n",
       "      <td>...</td>\n",
       "      <td>...</td>\n",
       "    </tr>\n",
       "    <tr>\n",
       "      <th>70604</th>\n",
       "      <td>7993686</td>\n",
       "      <td>4.0</td>\n",
       "      <td>56.0</td>\n",
       "      <td>38.5</td>\n",
       "      <td>U</td>\n",
       "      <td>3.0</td>\n",
       "      <td>1411062.68</td>\n",
       "      <td>5.0</td>\n",
       "      <td>5.0</td>\n",
       "    </tr>\n",
       "    <tr>\n",
       "      <th>70605</th>\n",
       "      <td>8981690</td>\n",
       "      <td>12.0</td>\n",
       "      <td>148.0</td>\n",
       "      <td>31.0</td>\n",
       "      <td>M</td>\n",
       "      <td>2.0</td>\n",
       "      <td>101867.07</td>\n",
       "      <td>6.0</td>\n",
       "      <td>6.0</td>\n",
       "    </tr>\n",
       "    <tr>\n",
       "      <th>70606</th>\n",
       "      <td>333913</td>\n",
       "      <td>16.0</td>\n",
       "      <td>198.0</td>\n",
       "      <td>61.5</td>\n",
       "      <td>F</td>\n",
       "      <td>2.0</td>\n",
       "      <td>40745.00</td>\n",
       "      <td>3.0</td>\n",
       "      <td>3.0</td>\n",
       "    </tr>\n",
       "    <tr>\n",
       "      <th>70607</th>\n",
       "      <td>1573142</td>\n",
       "      <td>21.0</td>\n",
       "      <td>255.0</td>\n",
       "      <td>68.0</td>\n",
       "      <td>M</td>\n",
       "      <td>3.0</td>\n",
       "      <td>475114.69</td>\n",
       "      <td>4.0</td>\n",
       "      <td>4.0</td>\n",
       "    </tr>\n",
       "    <tr>\n",
       "      <th>70608</th>\n",
       "      <td>5602139</td>\n",
       "      <td>21.0</td>\n",
       "      <td>254.0</td>\n",
       "      <td>59.5</td>\n",
       "      <td>F</td>\n",
       "      <td>3.0</td>\n",
       "      <td>157498.73</td>\n",
       "      <td>7.0</td>\n",
       "      <td>7.0</td>\n",
       "    </tr>\n",
       "  </tbody>\n",
       "</table>\n",
       "<p>70609 rows × 9 columns</p>\n",
       "</div>"
      ],
      "text/plain": [
       "       client_id  clnt_tenure_yr  clnt_tenure_mnth  clnt_age gendr  num_accts  \\\n",
       "0         836976             6.0              73.0      60.5     U        2.0   \n",
       "1        2304905             7.0              94.0      58.0     U        2.0   \n",
       "2        1439522             5.0              64.0      32.0     U        2.0   \n",
       "3        1562045            16.0             198.0      49.0     M        2.0   \n",
       "4        5126305            12.0             145.0      33.0     F        2.0   \n",
       "...          ...             ...               ...       ...   ...        ...   \n",
       "70604    7993686             4.0              56.0      38.5     U        3.0   \n",
       "70605    8981690            12.0             148.0      31.0     M        2.0   \n",
       "70606     333913            16.0             198.0      61.5     F        2.0   \n",
       "70607    1573142            21.0             255.0      68.0     M        3.0   \n",
       "70608    5602139            21.0             254.0      59.5     F        3.0   \n",
       "\n",
       "              bal  calls_6_mnth  logons_6_mnth  \n",
       "0        45105.30           6.0            9.0  \n",
       "1       110860.30           6.0            9.0  \n",
       "2        52467.79           6.0            9.0  \n",
       "3        67454.65           3.0            6.0  \n",
       "4       103671.75           0.0            3.0  \n",
       "...           ...           ...            ...  \n",
       "70604  1411062.68           5.0            5.0  \n",
       "70605   101867.07           6.0            6.0  \n",
       "70606    40745.00           3.0            3.0  \n",
       "70607   475114.69           4.0            4.0  \n",
       "70608   157498.73           7.0            7.0  \n",
       "\n",
       "[70609 rows x 9 columns]"
      ]
     },
     "execution_count": 233,
     "metadata": {},
     "output_type": "execute_result"
    }
   ],
   "source": [
    "import pandas as pd \n",
    "\n",
    "df_final_demo = pd.read_csv('/Users/lucielopez/Desktop/stuff/IRONHACK/PROJECT/W5:W6/df_final_demo.txt', delimiter=',')  # ',' pour CSV, '\\t' pour tabulation\n",
    "df_final_demo"
   ]
  },
  {
   "cell_type": "code",
   "execution_count": 234,
   "id": "347b7124",
   "metadata": {},
   "outputs": [
    {
     "data": {
      "text/html": [
       "<div>\n",
       "<style scoped>\n",
       "    .dataframe tbody tr th:only-of-type {\n",
       "        vertical-align: middle;\n",
       "    }\n",
       "\n",
       "    .dataframe tbody tr th {\n",
       "        vertical-align: top;\n",
       "    }\n",
       "\n",
       "    .dataframe thead th {\n",
       "        text-align: right;\n",
       "    }\n",
       "</style>\n",
       "<table border=\"1\" class=\"dataframe\">\n",
       "  <thead>\n",
       "    <tr style=\"text-align: right;\">\n",
       "      <th></th>\n",
       "      <th>client_id</th>\n",
       "      <th>Variation</th>\n",
       "    </tr>\n",
       "  </thead>\n",
       "  <tbody>\n",
       "    <tr>\n",
       "      <th>0</th>\n",
       "      <td>9988021</td>\n",
       "      <td>Test</td>\n",
       "    </tr>\n",
       "    <tr>\n",
       "      <th>1</th>\n",
       "      <td>8320017</td>\n",
       "      <td>Test</td>\n",
       "    </tr>\n",
       "    <tr>\n",
       "      <th>2</th>\n",
       "      <td>4033851</td>\n",
       "      <td>Control</td>\n",
       "    </tr>\n",
       "    <tr>\n",
       "      <th>3</th>\n",
       "      <td>1982004</td>\n",
       "      <td>Test</td>\n",
       "    </tr>\n",
       "    <tr>\n",
       "      <th>4</th>\n",
       "      <td>9294070</td>\n",
       "      <td>Control</td>\n",
       "    </tr>\n",
       "    <tr>\n",
       "      <th>...</th>\n",
       "      <td>...</td>\n",
       "      <td>...</td>\n",
       "    </tr>\n",
       "    <tr>\n",
       "      <th>70604</th>\n",
       "      <td>2443347</td>\n",
       "      <td>NaN</td>\n",
       "    </tr>\n",
       "    <tr>\n",
       "      <th>70605</th>\n",
       "      <td>8788427</td>\n",
       "      <td>NaN</td>\n",
       "    </tr>\n",
       "    <tr>\n",
       "      <th>70606</th>\n",
       "      <td>266828</td>\n",
       "      <td>NaN</td>\n",
       "    </tr>\n",
       "    <tr>\n",
       "      <th>70607</th>\n",
       "      <td>1266421</td>\n",
       "      <td>NaN</td>\n",
       "    </tr>\n",
       "    <tr>\n",
       "      <th>70608</th>\n",
       "      <td>9895983</td>\n",
       "      <td>NaN</td>\n",
       "    </tr>\n",
       "  </tbody>\n",
       "</table>\n",
       "<p>70609 rows × 2 columns</p>\n",
       "</div>"
      ],
      "text/plain": [
       "       client_id Variation\n",
       "0        9988021      Test\n",
       "1        8320017      Test\n",
       "2        4033851   Control\n",
       "3        1982004      Test\n",
       "4        9294070   Control\n",
       "...          ...       ...\n",
       "70604    2443347       NaN\n",
       "70605    8788427       NaN\n",
       "70606     266828       NaN\n",
       "70607    1266421       NaN\n",
       "70608    9895983       NaN\n",
       "\n",
       "[70609 rows x 2 columns]"
      ]
     },
     "execution_count": 234,
     "metadata": {},
     "output_type": "execute_result"
    }
   ],
   "source": [
    "df_final_experiment_clients = pd.read_csv('/Users/lucielopez/Desktop/stuff/IRONHACK/PROJECT/W5:W6/df_final_experiment_clients.txt', delimiter=',')  # ',' pour CSV, '\\t' pour tabulation\n",
    "df_final_experiment_clients"
   ]
  },
  {
   "cell_type": "code",
   "execution_count": 235,
   "id": "da855422",
   "metadata": {},
   "outputs": [
    {
     "data": {
      "text/plain": [
       "client_id        0\n",
       "Variation    20109\n",
       "dtype: int64"
      ]
     },
     "execution_count": 235,
     "metadata": {},
     "output_type": "execute_result"
    }
   ],
   "source": [
    "df_final_experiment_clients.isnull().sum()"
   ]
  },
  {
   "cell_type": "code",
   "execution_count": 236,
   "id": "8d8efc56",
   "metadata": {},
   "outputs": [
    {
     "data": {
      "text/html": [
       "<div>\n",
       "<style scoped>\n",
       "    .dataframe tbody tr th:only-of-type {\n",
       "        vertical-align: middle;\n",
       "    }\n",
       "\n",
       "    .dataframe tbody tr th {\n",
       "        vertical-align: top;\n",
       "    }\n",
       "\n",
       "    .dataframe thead th {\n",
       "        text-align: right;\n",
       "    }\n",
       "</style>\n",
       "<table border=\"1\" class=\"dataframe\">\n",
       "  <thead>\n",
       "    <tr style=\"text-align: right;\">\n",
       "      <th></th>\n",
       "      <th>client_id</th>\n",
       "      <th>visitor_id</th>\n",
       "      <th>visit_id</th>\n",
       "      <th>process_step</th>\n",
       "      <th>date_time</th>\n",
       "    </tr>\n",
       "  </thead>\n",
       "  <tbody>\n",
       "    <tr>\n",
       "      <th>0</th>\n",
       "      <td>9988021</td>\n",
       "      <td>580560515_7732621733</td>\n",
       "      <td>781255054_21935453173_531117</td>\n",
       "      <td>step_3</td>\n",
       "      <td>2017-04-17 15:27:07</td>\n",
       "    </tr>\n",
       "    <tr>\n",
       "      <th>1</th>\n",
       "      <td>9988021</td>\n",
       "      <td>580560515_7732621733</td>\n",
       "      <td>781255054_21935453173_531117</td>\n",
       "      <td>step_2</td>\n",
       "      <td>2017-04-17 15:26:51</td>\n",
       "    </tr>\n",
       "    <tr>\n",
       "      <th>2</th>\n",
       "      <td>9988021</td>\n",
       "      <td>580560515_7732621733</td>\n",
       "      <td>781255054_21935453173_531117</td>\n",
       "      <td>step_3</td>\n",
       "      <td>2017-04-17 15:19:22</td>\n",
       "    </tr>\n",
       "    <tr>\n",
       "      <th>3</th>\n",
       "      <td>9988021</td>\n",
       "      <td>580560515_7732621733</td>\n",
       "      <td>781255054_21935453173_531117</td>\n",
       "      <td>step_2</td>\n",
       "      <td>2017-04-17 15:19:13</td>\n",
       "    </tr>\n",
       "    <tr>\n",
       "      <th>4</th>\n",
       "      <td>9988021</td>\n",
       "      <td>580560515_7732621733</td>\n",
       "      <td>781255054_21935453173_531117</td>\n",
       "      <td>step_3</td>\n",
       "      <td>2017-04-17 15:18:04</td>\n",
       "    </tr>\n",
       "    <tr>\n",
       "      <th>...</th>\n",
       "      <td>...</td>\n",
       "      <td>...</td>\n",
       "      <td>...</td>\n",
       "      <td>...</td>\n",
       "      <td>...</td>\n",
       "    </tr>\n",
       "    <tr>\n",
       "      <th>755400</th>\n",
       "      <td>9668240</td>\n",
       "      <td>388766751_9038881013</td>\n",
       "      <td>922267647_3096648104_968866</td>\n",
       "      <td>start</td>\n",
       "      <td>2017-05-24 18:46:10</td>\n",
       "    </tr>\n",
       "    <tr>\n",
       "      <th>755401</th>\n",
       "      <td>9668240</td>\n",
       "      <td>388766751_9038881013</td>\n",
       "      <td>922267647_3096648104_968866</td>\n",
       "      <td>start</td>\n",
       "      <td>2017-05-24 18:45:29</td>\n",
       "    </tr>\n",
       "    <tr>\n",
       "      <th>755402</th>\n",
       "      <td>9668240</td>\n",
       "      <td>388766751_9038881013</td>\n",
       "      <td>922267647_3096648104_968866</td>\n",
       "      <td>step_1</td>\n",
       "      <td>2017-05-24 18:44:51</td>\n",
       "    </tr>\n",
       "    <tr>\n",
       "      <th>755403</th>\n",
       "      <td>9668240</td>\n",
       "      <td>388766751_9038881013</td>\n",
       "      <td>922267647_3096648104_968866</td>\n",
       "      <td>start</td>\n",
       "      <td>2017-05-24 18:44:34</td>\n",
       "    </tr>\n",
       "    <tr>\n",
       "      <th>755404</th>\n",
       "      <td>674799</td>\n",
       "      <td>947159805_81558194550</td>\n",
       "      <td>86152093_47511127657_716022</td>\n",
       "      <td>start</td>\n",
       "      <td>2017-06-03 12:17:09</td>\n",
       "    </tr>\n",
       "  </tbody>\n",
       "</table>\n",
       "<p>755405 rows × 5 columns</p>\n",
       "</div>"
      ],
      "text/plain": [
       "        client_id             visitor_id                      visit_id  \\\n",
       "0         9988021   580560515_7732621733  781255054_21935453173_531117   \n",
       "1         9988021   580560515_7732621733  781255054_21935453173_531117   \n",
       "2         9988021   580560515_7732621733  781255054_21935453173_531117   \n",
       "3         9988021   580560515_7732621733  781255054_21935453173_531117   \n",
       "4         9988021   580560515_7732621733  781255054_21935453173_531117   \n",
       "...           ...                    ...                           ...   \n",
       "755400    9668240   388766751_9038881013   922267647_3096648104_968866   \n",
       "755401    9668240   388766751_9038881013   922267647_3096648104_968866   \n",
       "755402    9668240   388766751_9038881013   922267647_3096648104_968866   \n",
       "755403    9668240   388766751_9038881013   922267647_3096648104_968866   \n",
       "755404     674799  947159805_81558194550   86152093_47511127657_716022   \n",
       "\n",
       "       process_step            date_time  \n",
       "0            step_3  2017-04-17 15:27:07  \n",
       "1            step_2  2017-04-17 15:26:51  \n",
       "2            step_3  2017-04-17 15:19:22  \n",
       "3            step_2  2017-04-17 15:19:13  \n",
       "4            step_3  2017-04-17 15:18:04  \n",
       "...             ...                  ...  \n",
       "755400        start  2017-05-24 18:46:10  \n",
       "755401        start  2017-05-24 18:45:29  \n",
       "755402       step_1  2017-05-24 18:44:51  \n",
       "755403        start  2017-05-24 18:44:34  \n",
       "755404        start  2017-06-03 12:17:09  \n",
       "\n",
       "[755405 rows x 5 columns]"
      ]
     },
     "execution_count": 236,
     "metadata": {},
     "output_type": "execute_result"
    }
   ],
   "source": [
    "df1 = pd.read_csv('/Users/lucielopez/Desktop/stuff/IRONHACK/PROJECT/W5:W6/df_final_web_data_pt_1.txt', delimiter=',')  # ',' pour CSV, '\\t' pour tabulation\n",
    "df2 = pd.read_csv('/Users/lucielopez/Desktop/stuff/IRONHACK/PROJECT/W5:W6/df_final_web_data_pt_2.txt', delimiter=',')  # ',' pour CSV, '\\t' pour tabulation\n",
    "\n",
    "df_final_web_data = pd.concat([df1, df2], ignore_index=True, sort=False)\n",
    "\n",
    "\n",
    "df_final_web_data"
   ]
  },
  {
   "cell_type": "code",
   "execution_count": 237,
   "id": "cff0902d",
   "metadata": {},
   "outputs": [],
   "source": [
    "#####################################################"
   ]
  },
  {
   "cell_type": "markdown",
   "id": "dca3523a",
   "metadata": {},
   "source": [
    "### ONE DATAFRAME"
   ]
  },
  {
   "cell_type": "code",
   "execution_count": 238,
   "id": "3ed3be6e",
   "metadata": {},
   "outputs": [],
   "source": [
    "df_merged = df_final_demo.merge(df_final_experiment_clients, on='client_id', how='left')"
   ]
  },
  {
   "cell_type": "code",
   "execution_count": 239,
   "id": "fcbd4915",
   "metadata": {},
   "outputs": [],
   "source": [
    "df = df_merged.merge(df_final_web_data, on='client_id', how='left')"
   ]
  },
  {
   "cell_type": "code",
   "execution_count": 240,
   "id": "60f75b2f",
   "metadata": {},
   "outputs": [
    {
     "data": {
      "text/html": [
       "<div>\n",
       "<style scoped>\n",
       "    .dataframe tbody tr th:only-of-type {\n",
       "        vertical-align: middle;\n",
       "    }\n",
       "\n",
       "    .dataframe tbody tr th {\n",
       "        vertical-align: top;\n",
       "    }\n",
       "\n",
       "    .dataframe thead th {\n",
       "        text-align: right;\n",
       "    }\n",
       "</style>\n",
       "<table border=\"1\" class=\"dataframe\">\n",
       "  <thead>\n",
       "    <tr style=\"text-align: right;\">\n",
       "      <th></th>\n",
       "      <th>client_id</th>\n",
       "      <th>clnt_tenure_yr</th>\n",
       "      <th>clnt_tenure_mnth</th>\n",
       "      <th>clnt_age</th>\n",
       "      <th>gendr</th>\n",
       "      <th>num_accts</th>\n",
       "      <th>bal</th>\n",
       "      <th>calls_6_mnth</th>\n",
       "      <th>logons_6_mnth</th>\n",
       "      <th>Variation</th>\n",
       "      <th>visitor_id</th>\n",
       "      <th>visit_id</th>\n",
       "      <th>process_step</th>\n",
       "      <th>date_time</th>\n",
       "    </tr>\n",
       "  </thead>\n",
       "  <tbody>\n",
       "    <tr>\n",
       "      <th>0</th>\n",
       "      <td>836976</td>\n",
       "      <td>6.0</td>\n",
       "      <td>73.0</td>\n",
       "      <td>60.5</td>\n",
       "      <td>U</td>\n",
       "      <td>2.0</td>\n",
       "      <td>45105.3</td>\n",
       "      <td>6.0</td>\n",
       "      <td>9.0</td>\n",
       "      <td>Test</td>\n",
       "      <td>427070339_1413275162</td>\n",
       "      <td>228976764_46825473280_96584</td>\n",
       "      <td>confirm</td>\n",
       "      <td>2017-04-02 11:51:13</td>\n",
       "    </tr>\n",
       "    <tr>\n",
       "      <th>1</th>\n",
       "      <td>836976</td>\n",
       "      <td>6.0</td>\n",
       "      <td>73.0</td>\n",
       "      <td>60.5</td>\n",
       "      <td>U</td>\n",
       "      <td>2.0</td>\n",
       "      <td>45105.3</td>\n",
       "      <td>6.0</td>\n",
       "      <td>9.0</td>\n",
       "      <td>Test</td>\n",
       "      <td>427070339_1413275162</td>\n",
       "      <td>228976764_46825473280_96584</td>\n",
       "      <td>confirm</td>\n",
       "      <td>2017-04-02 11:47:50</td>\n",
       "    </tr>\n",
       "    <tr>\n",
       "      <th>2</th>\n",
       "      <td>836976</td>\n",
       "      <td>6.0</td>\n",
       "      <td>73.0</td>\n",
       "      <td>60.5</td>\n",
       "      <td>U</td>\n",
       "      <td>2.0</td>\n",
       "      <td>45105.3</td>\n",
       "      <td>6.0</td>\n",
       "      <td>9.0</td>\n",
       "      <td>Test</td>\n",
       "      <td>427070339_1413275162</td>\n",
       "      <td>228976764_46825473280_96584</td>\n",
       "      <td>confirm</td>\n",
       "      <td>2017-04-02 11:46:45</td>\n",
       "    </tr>\n",
       "    <tr>\n",
       "      <th>3</th>\n",
       "      <td>836976</td>\n",
       "      <td>6.0</td>\n",
       "      <td>73.0</td>\n",
       "      <td>60.5</td>\n",
       "      <td>U</td>\n",
       "      <td>2.0</td>\n",
       "      <td>45105.3</td>\n",
       "      <td>6.0</td>\n",
       "      <td>9.0</td>\n",
       "      <td>Test</td>\n",
       "      <td>427070339_1413275162</td>\n",
       "      <td>228976764_46825473280_96584</td>\n",
       "      <td>step_3</td>\n",
       "      <td>2017-04-02 11:23:08</td>\n",
       "    </tr>\n",
       "    <tr>\n",
       "      <th>4</th>\n",
       "      <td>836976</td>\n",
       "      <td>6.0</td>\n",
       "      <td>73.0</td>\n",
       "      <td>60.5</td>\n",
       "      <td>U</td>\n",
       "      <td>2.0</td>\n",
       "      <td>45105.3</td>\n",
       "      <td>6.0</td>\n",
       "      <td>9.0</td>\n",
       "      <td>Test</td>\n",
       "      <td>427070339_1413275162</td>\n",
       "      <td>228976764_46825473280_96584</td>\n",
       "      <td>step_2</td>\n",
       "      <td>2017-04-02 11:22:24</td>\n",
       "    </tr>\n",
       "  </tbody>\n",
       "</table>\n",
       "</div>"
      ],
      "text/plain": [
       "   client_id  clnt_tenure_yr  clnt_tenure_mnth  clnt_age gendr  num_accts  \\\n",
       "0     836976             6.0              73.0      60.5     U        2.0   \n",
       "1     836976             6.0              73.0      60.5     U        2.0   \n",
       "2     836976             6.0              73.0      60.5     U        2.0   \n",
       "3     836976             6.0              73.0      60.5     U        2.0   \n",
       "4     836976             6.0              73.0      60.5     U        2.0   \n",
       "\n",
       "       bal  calls_6_mnth  logons_6_mnth Variation            visitor_id  \\\n",
       "0  45105.3           6.0            9.0      Test  427070339_1413275162   \n",
       "1  45105.3           6.0            9.0      Test  427070339_1413275162   \n",
       "2  45105.3           6.0            9.0      Test  427070339_1413275162   \n",
       "3  45105.3           6.0            9.0      Test  427070339_1413275162   \n",
       "4  45105.3           6.0            9.0      Test  427070339_1413275162   \n",
       "\n",
       "                      visit_id process_step            date_time  \n",
       "0  228976764_46825473280_96584      confirm  2017-04-02 11:51:13  \n",
       "1  228976764_46825473280_96584      confirm  2017-04-02 11:47:50  \n",
       "2  228976764_46825473280_96584      confirm  2017-04-02 11:46:45  \n",
       "3  228976764_46825473280_96584       step_3  2017-04-02 11:23:08  \n",
       "4  228976764_46825473280_96584       step_2  2017-04-02 11:22:24  "
      ]
     },
     "execution_count": 240,
     "metadata": {},
     "output_type": "execute_result"
    }
   ],
   "source": [
    "df.head()"
   ]
  },
  {
   "cell_type": "code",
   "execution_count": 241,
   "id": "21e2dddb",
   "metadata": {},
   "outputs": [
    {
     "name": "stdout",
     "output_type": "stream",
     "text": [
      "<class 'pandas.core.frame.DataFrame'>\n",
      "RangeIndex: 449831 entries, 0 to 449830\n",
      "Data columns (total 14 columns):\n",
      " #   Column            Non-Null Count   Dtype  \n",
      "---  ------            --------------   -----  \n",
      " 0   client_id         449831 non-null  int64  \n",
      " 1   clnt_tenure_yr    449716 non-null  float64\n",
      " 2   clnt_tenure_mnth  449716 non-null  float64\n",
      " 3   clnt_age          449704 non-null  float64\n",
      " 4   gendr             449716 non-null  object \n",
      " 5   num_accts         449716 non-null  float64\n",
      " 6   bal               449716 non-null  float64\n",
      " 7   calls_6_mnth      449716 non-null  float64\n",
      " 8   logons_6_mnth     449716 non-null  float64\n",
      " 9   Variation         321309 non-null  object \n",
      " 10  visitor_id        449831 non-null  object \n",
      " 11  visit_id          449831 non-null  object \n",
      " 12  process_step      449831 non-null  object \n",
      " 13  date_time         449831 non-null  object \n",
      "dtypes: float64(7), int64(1), object(6)\n",
      "memory usage: 48.0+ MB\n"
     ]
    }
   ],
   "source": [
    "df.info()"
   ]
  },
  {
   "cell_type": "code",
   "execution_count": 242,
   "id": "16243b35",
   "metadata": {},
   "outputs": [
    {
     "data": {
      "text/html": [
       "<div>\n",
       "<style scoped>\n",
       "    .dataframe tbody tr th:only-of-type {\n",
       "        vertical-align: middle;\n",
       "    }\n",
       "\n",
       "    .dataframe tbody tr th {\n",
       "        vertical-align: top;\n",
       "    }\n",
       "\n",
       "    .dataframe thead th {\n",
       "        text-align: right;\n",
       "    }\n",
       "</style>\n",
       "<table border=\"1\" class=\"dataframe\">\n",
       "  <thead>\n",
       "    <tr style=\"text-align: right;\">\n",
       "      <th></th>\n",
       "      <th>client_id</th>\n",
       "      <th>clnt_tenure_yr</th>\n",
       "      <th>clnt_tenure_mnth</th>\n",
       "      <th>clnt_age</th>\n",
       "      <th>gendr</th>\n",
       "      <th>num_accts</th>\n",
       "      <th>bal</th>\n",
       "      <th>calls_6_mnth</th>\n",
       "      <th>logons_6_mnth</th>\n",
       "      <th>Variation</th>\n",
       "      <th>visitor_id</th>\n",
       "      <th>visit_id</th>\n",
       "      <th>process_step</th>\n",
       "      <th>date_time</th>\n",
       "    </tr>\n",
       "  </thead>\n",
       "  <tbody>\n",
       "    <tr>\n",
       "      <th>0</th>\n",
       "      <td>836976</td>\n",
       "      <td>6.0</td>\n",
       "      <td>73.0</td>\n",
       "      <td>60.5</td>\n",
       "      <td>U</td>\n",
       "      <td>2.0</td>\n",
       "      <td>45105.30</td>\n",
       "      <td>6.0</td>\n",
       "      <td>9.0</td>\n",
       "      <td>Test</td>\n",
       "      <td>427070339_1413275162</td>\n",
       "      <td>228976764_46825473280_96584</td>\n",
       "      <td>confirm</td>\n",
       "      <td>2017-04-02 11:51:13</td>\n",
       "    </tr>\n",
       "    <tr>\n",
       "      <th>1</th>\n",
       "      <td>836976</td>\n",
       "      <td>6.0</td>\n",
       "      <td>73.0</td>\n",
       "      <td>60.5</td>\n",
       "      <td>U</td>\n",
       "      <td>2.0</td>\n",
       "      <td>45105.30</td>\n",
       "      <td>6.0</td>\n",
       "      <td>9.0</td>\n",
       "      <td>Test</td>\n",
       "      <td>427070339_1413275162</td>\n",
       "      <td>228976764_46825473280_96584</td>\n",
       "      <td>confirm</td>\n",
       "      <td>2017-04-02 11:47:50</td>\n",
       "    </tr>\n",
       "    <tr>\n",
       "      <th>2</th>\n",
       "      <td>836976</td>\n",
       "      <td>6.0</td>\n",
       "      <td>73.0</td>\n",
       "      <td>60.5</td>\n",
       "      <td>U</td>\n",
       "      <td>2.0</td>\n",
       "      <td>45105.30</td>\n",
       "      <td>6.0</td>\n",
       "      <td>9.0</td>\n",
       "      <td>Test</td>\n",
       "      <td>427070339_1413275162</td>\n",
       "      <td>228976764_46825473280_96584</td>\n",
       "      <td>confirm</td>\n",
       "      <td>2017-04-02 11:46:45</td>\n",
       "    </tr>\n",
       "    <tr>\n",
       "      <th>3</th>\n",
       "      <td>836976</td>\n",
       "      <td>6.0</td>\n",
       "      <td>73.0</td>\n",
       "      <td>60.5</td>\n",
       "      <td>U</td>\n",
       "      <td>2.0</td>\n",
       "      <td>45105.30</td>\n",
       "      <td>6.0</td>\n",
       "      <td>9.0</td>\n",
       "      <td>Test</td>\n",
       "      <td>427070339_1413275162</td>\n",
       "      <td>228976764_46825473280_96584</td>\n",
       "      <td>step_3</td>\n",
       "      <td>2017-04-02 11:23:08</td>\n",
       "    </tr>\n",
       "    <tr>\n",
       "      <th>4</th>\n",
       "      <td>836976</td>\n",
       "      <td>6.0</td>\n",
       "      <td>73.0</td>\n",
       "      <td>60.5</td>\n",
       "      <td>U</td>\n",
       "      <td>2.0</td>\n",
       "      <td>45105.30</td>\n",
       "      <td>6.0</td>\n",
       "      <td>9.0</td>\n",
       "      <td>Test</td>\n",
       "      <td>427070339_1413275162</td>\n",
       "      <td>228976764_46825473280_96584</td>\n",
       "      <td>step_2</td>\n",
       "      <td>2017-04-02 11:22:24</td>\n",
       "    </tr>\n",
       "    <tr>\n",
       "      <th>...</th>\n",
       "      <td>...</td>\n",
       "      <td>...</td>\n",
       "      <td>...</td>\n",
       "      <td>...</td>\n",
       "      <td>...</td>\n",
       "      <td>...</td>\n",
       "      <td>...</td>\n",
       "      <td>...</td>\n",
       "      <td>...</td>\n",
       "      <td>...</td>\n",
       "      <td>...</td>\n",
       "      <td>...</td>\n",
       "      <td>...</td>\n",
       "      <td>...</td>\n",
       "    </tr>\n",
       "    <tr>\n",
       "      <th>449826</th>\n",
       "      <td>5602139</td>\n",
       "      <td>21.0</td>\n",
       "      <td>254.0</td>\n",
       "      <td>59.5</td>\n",
       "      <td>F</td>\n",
       "      <td>3.0</td>\n",
       "      <td>157498.73</td>\n",
       "      <td>7.0</td>\n",
       "      <td>7.0</td>\n",
       "      <td>NaN</td>\n",
       "      <td>962766819_57063135389</td>\n",
       "      <td>158544612_4105226940_43043</td>\n",
       "      <td>confirm</td>\n",
       "      <td>2017-04-05 11:48:02</td>\n",
       "    </tr>\n",
       "    <tr>\n",
       "      <th>449827</th>\n",
       "      <td>5602139</td>\n",
       "      <td>21.0</td>\n",
       "      <td>254.0</td>\n",
       "      <td>59.5</td>\n",
       "      <td>F</td>\n",
       "      <td>3.0</td>\n",
       "      <td>157498.73</td>\n",
       "      <td>7.0</td>\n",
       "      <td>7.0</td>\n",
       "      <td>NaN</td>\n",
       "      <td>962766819_57063135389</td>\n",
       "      <td>158544612_4105226940_43043</td>\n",
       "      <td>step_3</td>\n",
       "      <td>2017-04-05 11:44:07</td>\n",
       "    </tr>\n",
       "    <tr>\n",
       "      <th>449828</th>\n",
       "      <td>5602139</td>\n",
       "      <td>21.0</td>\n",
       "      <td>254.0</td>\n",
       "      <td>59.5</td>\n",
       "      <td>F</td>\n",
       "      <td>3.0</td>\n",
       "      <td>157498.73</td>\n",
       "      <td>7.0</td>\n",
       "      <td>7.0</td>\n",
       "      <td>NaN</td>\n",
       "      <td>962766819_57063135389</td>\n",
       "      <td>158544612_4105226940_43043</td>\n",
       "      <td>step_2</td>\n",
       "      <td>2017-04-05 11:43:10</td>\n",
       "    </tr>\n",
       "    <tr>\n",
       "      <th>449829</th>\n",
       "      <td>5602139</td>\n",
       "      <td>21.0</td>\n",
       "      <td>254.0</td>\n",
       "      <td>59.5</td>\n",
       "      <td>F</td>\n",
       "      <td>3.0</td>\n",
       "      <td>157498.73</td>\n",
       "      <td>7.0</td>\n",
       "      <td>7.0</td>\n",
       "      <td>NaN</td>\n",
       "      <td>962766819_57063135389</td>\n",
       "      <td>884309593_49820690623_654151</td>\n",
       "      <td>step_1</td>\n",
       "      <td>2017-04-05 11:41:32</td>\n",
       "    </tr>\n",
       "    <tr>\n",
       "      <th>449830</th>\n",
       "      <td>5602139</td>\n",
       "      <td>21.0</td>\n",
       "      <td>254.0</td>\n",
       "      <td>59.5</td>\n",
       "      <td>F</td>\n",
       "      <td>3.0</td>\n",
       "      <td>157498.73</td>\n",
       "      <td>7.0</td>\n",
       "      <td>7.0</td>\n",
       "      <td>NaN</td>\n",
       "      <td>962766819_57063135389</td>\n",
       "      <td>884309593_49820690623_654151</td>\n",
       "      <td>start</td>\n",
       "      <td>2017-04-05 11:41:04</td>\n",
       "    </tr>\n",
       "  </tbody>\n",
       "</table>\n",
       "<p>449831 rows × 14 columns</p>\n",
       "</div>"
      ],
      "text/plain": [
       "        client_id  clnt_tenure_yr  clnt_tenure_mnth  clnt_age gendr  \\\n",
       "0          836976             6.0              73.0      60.5     U   \n",
       "1          836976             6.0              73.0      60.5     U   \n",
       "2          836976             6.0              73.0      60.5     U   \n",
       "3          836976             6.0              73.0      60.5     U   \n",
       "4          836976             6.0              73.0      60.5     U   \n",
       "...           ...             ...               ...       ...   ...   \n",
       "449826    5602139            21.0             254.0      59.5     F   \n",
       "449827    5602139            21.0             254.0      59.5     F   \n",
       "449828    5602139            21.0             254.0      59.5     F   \n",
       "449829    5602139            21.0             254.0      59.5     F   \n",
       "449830    5602139            21.0             254.0      59.5     F   \n",
       "\n",
       "        num_accts        bal  calls_6_mnth  logons_6_mnth Variation  \\\n",
       "0             2.0   45105.30           6.0            9.0      Test   \n",
       "1             2.0   45105.30           6.0            9.0      Test   \n",
       "2             2.0   45105.30           6.0            9.0      Test   \n",
       "3             2.0   45105.30           6.0            9.0      Test   \n",
       "4             2.0   45105.30           6.0            9.0      Test   \n",
       "...           ...        ...           ...            ...       ...   \n",
       "449826        3.0  157498.73           7.0            7.0       NaN   \n",
       "449827        3.0  157498.73           7.0            7.0       NaN   \n",
       "449828        3.0  157498.73           7.0            7.0       NaN   \n",
       "449829        3.0  157498.73           7.0            7.0       NaN   \n",
       "449830        3.0  157498.73           7.0            7.0       NaN   \n",
       "\n",
       "                   visitor_id                      visit_id process_step  \\\n",
       "0        427070339_1413275162   228976764_46825473280_96584      confirm   \n",
       "1        427070339_1413275162   228976764_46825473280_96584      confirm   \n",
       "2        427070339_1413275162   228976764_46825473280_96584      confirm   \n",
       "3        427070339_1413275162   228976764_46825473280_96584       step_3   \n",
       "4        427070339_1413275162   228976764_46825473280_96584       step_2   \n",
       "...                       ...                           ...          ...   \n",
       "449826  962766819_57063135389    158544612_4105226940_43043      confirm   \n",
       "449827  962766819_57063135389    158544612_4105226940_43043       step_3   \n",
       "449828  962766819_57063135389    158544612_4105226940_43043       step_2   \n",
       "449829  962766819_57063135389  884309593_49820690623_654151       step_1   \n",
       "449830  962766819_57063135389  884309593_49820690623_654151        start   \n",
       "\n",
       "                  date_time  \n",
       "0       2017-04-02 11:51:13  \n",
       "1       2017-04-02 11:47:50  \n",
       "2       2017-04-02 11:46:45  \n",
       "3       2017-04-02 11:23:08  \n",
       "4       2017-04-02 11:22:24  \n",
       "...                     ...  \n",
       "449826  2017-04-05 11:48:02  \n",
       "449827  2017-04-05 11:44:07  \n",
       "449828  2017-04-05 11:43:10  \n",
       "449829  2017-04-05 11:41:32  \n",
       "449830  2017-04-05 11:41:04  \n",
       "\n",
       "[449831 rows x 14 columns]"
      ]
     },
     "execution_count": 242,
     "metadata": {},
     "output_type": "execute_result"
    }
   ],
   "source": [
    "df"
   ]
  },
  {
   "cell_type": "code",
   "execution_count": 243,
   "id": "9752f822",
   "metadata": {},
   "outputs": [],
   "source": [
    "#####################################################"
   ]
  },
  {
   "cell_type": "markdown",
   "id": "6e135c02",
   "metadata": {},
   "source": [
    "### Experimental subset: Variation (Test, Control)\n",
    "\n",
    "An A/B test was set into motion from 3/15/2017 to 6/20/2017 by the team.\n",
    "\n",
    "- Control Group: Clients interacted with Vanguard's traditional online process.\n",
    "\n",
    "- Test Group: Clients experienced the new, spruced-up digital interface."
   ]
  },
  {
   "cell_type": "code",
   "execution_count": 244,
   "id": "cbe90469",
   "metadata": {},
   "outputs": [
    {
     "name": "stdout",
     "output_type": "stream",
     "text": [
      "Variation\n",
      "Test       177847\n",
      "Control    143462\n",
      "NaN        128522\n",
      "Name: count, dtype: int64\n",
      "Variation\n",
      "Test       177847\n",
      "Control    143462\n",
      "Name: count, dtype: int64\n"
     ]
    }
   ],
   "source": [
    "# Dataframe with only Test / Control on the Variation column (drop the NaN)\n",
    "\n",
    "df_variation = df.dropna(subset=['Variation'])\n",
    "\n",
    "print(df['Variation'].value_counts(dropna=False))\n",
    "print(df_variation['Variation'].value_counts(dropna=False))"
   ]
  },
  {
   "cell_type": "code",
   "execution_count": 245,
   "id": "9f4194f3",
   "metadata": {},
   "outputs": [
    {
     "name": "stdout",
     "output_type": "stream",
     "text": [
      "        clnt_age age_group\n",
      "0           60.5    senior\n",
      "1           60.5    senior\n",
      "2           60.5    senior\n",
      "3           60.5    senior\n",
      "4           60.5    senior\n",
      "...          ...       ...\n",
      "321304      61.0    senior\n",
      "321305      61.0    senior\n",
      "321306      61.0    senior\n",
      "321307      61.0    senior\n",
      "321308      61.0    senior\n",
      "\n",
      "[321309 rows x 2 columns]\n"
     ]
    },
    {
     "name": "stderr",
     "output_type": "stream",
     "text": [
      "/var/folders/zv/n5tftmvs15g6v9bt94cd5v400000gn/T/ipykernel_35814/2897591684.py:7: SettingWithCopyWarning: \n",
      "A value is trying to be set on a copy of a slice from a DataFrame.\n",
      "Try using .loc[row_indexer,col_indexer] = value instead\n",
      "\n",
      "See the caveats in the documentation: https://pandas.pydata.org/pandas-docs/stable/user_guide/indexing.html#returning-a-view-versus-a-copy\n",
      "  df_variation['age_group'] = pd.cut(df_variation['clnt_age'], bins=bins, labels=labels, right=False)\n"
     ]
    }
   ],
   "source": [
    "# young, middle-aged, senior\n",
    "\n",
    "bins = [18, 35, 60, 100]\n",
    "labels = ['young', 'middle-aged', 'senior']\n",
    "\n",
    "# new column 'age_group'\n",
    "df_variation['age_group'] = pd.cut(df_variation['clnt_age'], bins=bins, labels=labels, right=False)\n",
    "\n",
    "print(df_variation[['clnt_age', 'age_group']])"
   ]
  },
  {
   "cell_type": "code",
   "execution_count": 246,
   "id": "56127269",
   "metadata": {},
   "outputs": [
    {
     "data": {
      "text/html": [
       "<div>\n",
       "<style scoped>\n",
       "    .dataframe tbody tr th:only-of-type {\n",
       "        vertical-align: middle;\n",
       "    }\n",
       "\n",
       "    .dataframe tbody tr th {\n",
       "        vertical-align: top;\n",
       "    }\n",
       "\n",
       "    .dataframe thead th {\n",
       "        text-align: right;\n",
       "    }\n",
       "</style>\n",
       "<table border=\"1\" class=\"dataframe\">\n",
       "  <thead>\n",
       "    <tr style=\"text-align: right;\">\n",
       "      <th></th>\n",
       "      <th>client_id</th>\n",
       "      <th>clnt_tenure_yr</th>\n",
       "      <th>clnt_tenure_mnth</th>\n",
       "      <th>clnt_age</th>\n",
       "      <th>gendr</th>\n",
       "      <th>num_accts</th>\n",
       "      <th>bal</th>\n",
       "      <th>calls_6_mnth</th>\n",
       "      <th>logons_6_mnth</th>\n",
       "      <th>Variation</th>\n",
       "      <th>visitor_id</th>\n",
       "      <th>visit_id</th>\n",
       "      <th>process_step</th>\n",
       "      <th>date_time</th>\n",
       "      <th>age_group</th>\n",
       "    </tr>\n",
       "  </thead>\n",
       "  <tbody>\n",
       "    <tr>\n",
       "      <th>0</th>\n",
       "      <td>836976</td>\n",
       "      <td>6.0</td>\n",
       "      <td>73.0</td>\n",
       "      <td>60.5</td>\n",
       "      <td>U</td>\n",
       "      <td>2.0</td>\n",
       "      <td>45105.30</td>\n",
       "      <td>6.0</td>\n",
       "      <td>9.0</td>\n",
       "      <td>Test</td>\n",
       "      <td>427070339_1413275162</td>\n",
       "      <td>228976764_46825473280_96584</td>\n",
       "      <td>confirm</td>\n",
       "      <td>2017-04-02 11:51:13</td>\n",
       "      <td>senior</td>\n",
       "    </tr>\n",
       "    <tr>\n",
       "      <th>1</th>\n",
       "      <td>836976</td>\n",
       "      <td>6.0</td>\n",
       "      <td>73.0</td>\n",
       "      <td>60.5</td>\n",
       "      <td>U</td>\n",
       "      <td>2.0</td>\n",
       "      <td>45105.30</td>\n",
       "      <td>6.0</td>\n",
       "      <td>9.0</td>\n",
       "      <td>Test</td>\n",
       "      <td>427070339_1413275162</td>\n",
       "      <td>228976764_46825473280_96584</td>\n",
       "      <td>confirm</td>\n",
       "      <td>2017-04-02 11:47:50</td>\n",
       "      <td>senior</td>\n",
       "    </tr>\n",
       "    <tr>\n",
       "      <th>2</th>\n",
       "      <td>836976</td>\n",
       "      <td>6.0</td>\n",
       "      <td>73.0</td>\n",
       "      <td>60.5</td>\n",
       "      <td>U</td>\n",
       "      <td>2.0</td>\n",
       "      <td>45105.30</td>\n",
       "      <td>6.0</td>\n",
       "      <td>9.0</td>\n",
       "      <td>Test</td>\n",
       "      <td>427070339_1413275162</td>\n",
       "      <td>228976764_46825473280_96584</td>\n",
       "      <td>confirm</td>\n",
       "      <td>2017-04-02 11:46:45</td>\n",
       "      <td>senior</td>\n",
       "    </tr>\n",
       "    <tr>\n",
       "      <th>3</th>\n",
       "      <td>836976</td>\n",
       "      <td>6.0</td>\n",
       "      <td>73.0</td>\n",
       "      <td>60.5</td>\n",
       "      <td>U</td>\n",
       "      <td>2.0</td>\n",
       "      <td>45105.30</td>\n",
       "      <td>6.0</td>\n",
       "      <td>9.0</td>\n",
       "      <td>Test</td>\n",
       "      <td>427070339_1413275162</td>\n",
       "      <td>228976764_46825473280_96584</td>\n",
       "      <td>step_3</td>\n",
       "      <td>2017-04-02 11:23:08</td>\n",
       "      <td>senior</td>\n",
       "    </tr>\n",
       "    <tr>\n",
       "      <th>4</th>\n",
       "      <td>836976</td>\n",
       "      <td>6.0</td>\n",
       "      <td>73.0</td>\n",
       "      <td>60.5</td>\n",
       "      <td>U</td>\n",
       "      <td>2.0</td>\n",
       "      <td>45105.30</td>\n",
       "      <td>6.0</td>\n",
       "      <td>9.0</td>\n",
       "      <td>Test</td>\n",
       "      <td>427070339_1413275162</td>\n",
       "      <td>228976764_46825473280_96584</td>\n",
       "      <td>step_2</td>\n",
       "      <td>2017-04-02 11:22:24</td>\n",
       "      <td>senior</td>\n",
       "    </tr>\n",
       "    <tr>\n",
       "      <th>...</th>\n",
       "      <td>...</td>\n",
       "      <td>...</td>\n",
       "      <td>...</td>\n",
       "      <td>...</td>\n",
       "      <td>...</td>\n",
       "      <td>...</td>\n",
       "      <td>...</td>\n",
       "      <td>...</td>\n",
       "      <td>...</td>\n",
       "      <td>...</td>\n",
       "      <td>...</td>\n",
       "      <td>...</td>\n",
       "      <td>...</td>\n",
       "      <td>...</td>\n",
       "      <td>...</td>\n",
       "    </tr>\n",
       "    <tr>\n",
       "      <th>321304</th>\n",
       "      <td>7468138</td>\n",
       "      <td>18.0</td>\n",
       "      <td>222.0</td>\n",
       "      <td>61.0</td>\n",
       "      <td>F</td>\n",
       "      <td>3.0</td>\n",
       "      <td>209278.15</td>\n",
       "      <td>0.0</td>\n",
       "      <td>3.0</td>\n",
       "      <td>Test</td>\n",
       "      <td>317123960_46820919455</td>\n",
       "      <td>769876461_30381166055_830233</td>\n",
       "      <td>step_2</td>\n",
       "      <td>2017-03-30 23:59:15</td>\n",
       "      <td>senior</td>\n",
       "    </tr>\n",
       "    <tr>\n",
       "      <th>321305</th>\n",
       "      <td>7468138</td>\n",
       "      <td>18.0</td>\n",
       "      <td>222.0</td>\n",
       "      <td>61.0</td>\n",
       "      <td>F</td>\n",
       "      <td>3.0</td>\n",
       "      <td>209278.15</td>\n",
       "      <td>0.0</td>\n",
       "      <td>3.0</td>\n",
       "      <td>Test</td>\n",
       "      <td>317123960_46820919455</td>\n",
       "      <td>769876461_30381166055_830233</td>\n",
       "      <td>step_1</td>\n",
       "      <td>2017-03-30 23:58:51</td>\n",
       "      <td>senior</td>\n",
       "    </tr>\n",
       "    <tr>\n",
       "      <th>321306</th>\n",
       "      <td>7468138</td>\n",
       "      <td>18.0</td>\n",
       "      <td>222.0</td>\n",
       "      <td>61.0</td>\n",
       "      <td>F</td>\n",
       "      <td>3.0</td>\n",
       "      <td>209278.15</td>\n",
       "      <td>0.0</td>\n",
       "      <td>3.0</td>\n",
       "      <td>Test</td>\n",
       "      <td>317123960_46820919455</td>\n",
       "      <td>769876461_30381166055_830233</td>\n",
       "      <td>start</td>\n",
       "      <td>2017-03-30 23:58:40</td>\n",
       "      <td>senior</td>\n",
       "    </tr>\n",
       "    <tr>\n",
       "      <th>321307</th>\n",
       "      <td>7468138</td>\n",
       "      <td>18.0</td>\n",
       "      <td>222.0</td>\n",
       "      <td>61.0</td>\n",
       "      <td>F</td>\n",
       "      <td>3.0</td>\n",
       "      <td>209278.15</td>\n",
       "      <td>0.0</td>\n",
       "      <td>3.0</td>\n",
       "      <td>Test</td>\n",
       "      <td>317123960_46820919455</td>\n",
       "      <td>769876461_30381166055_830233</td>\n",
       "      <td>start</td>\n",
       "      <td>2017-03-30 23:55:11</td>\n",
       "      <td>senior</td>\n",
       "    </tr>\n",
       "    <tr>\n",
       "      <th>321308</th>\n",
       "      <td>7468138</td>\n",
       "      <td>18.0</td>\n",
       "      <td>222.0</td>\n",
       "      <td>61.0</td>\n",
       "      <td>F</td>\n",
       "      <td>3.0</td>\n",
       "      <td>209278.15</td>\n",
       "      <td>0.0</td>\n",
       "      <td>3.0</td>\n",
       "      <td>Test</td>\n",
       "      <td>317123960_46820919455</td>\n",
       "      <td>769876461_30381166055_830233</td>\n",
       "      <td>start</td>\n",
       "      <td>2017-03-31 00:16:12</td>\n",
       "      <td>senior</td>\n",
       "    </tr>\n",
       "  </tbody>\n",
       "</table>\n",
       "<p>321309 rows × 15 columns</p>\n",
       "</div>"
      ],
      "text/plain": [
       "        client_id  clnt_tenure_yr  clnt_tenure_mnth  clnt_age gendr  \\\n",
       "0          836976             6.0              73.0      60.5     U   \n",
       "1          836976             6.0              73.0      60.5     U   \n",
       "2          836976             6.0              73.0      60.5     U   \n",
       "3          836976             6.0              73.0      60.5     U   \n",
       "4          836976             6.0              73.0      60.5     U   \n",
       "...           ...             ...               ...       ...   ...   \n",
       "321304    7468138            18.0             222.0      61.0     F   \n",
       "321305    7468138            18.0             222.0      61.0     F   \n",
       "321306    7468138            18.0             222.0      61.0     F   \n",
       "321307    7468138            18.0             222.0      61.0     F   \n",
       "321308    7468138            18.0             222.0      61.0     F   \n",
       "\n",
       "        num_accts        bal  calls_6_mnth  logons_6_mnth Variation  \\\n",
       "0             2.0   45105.30           6.0            9.0      Test   \n",
       "1             2.0   45105.30           6.0            9.0      Test   \n",
       "2             2.0   45105.30           6.0            9.0      Test   \n",
       "3             2.0   45105.30           6.0            9.0      Test   \n",
       "4             2.0   45105.30           6.0            9.0      Test   \n",
       "...           ...        ...           ...            ...       ...   \n",
       "321304        3.0  209278.15           0.0            3.0      Test   \n",
       "321305        3.0  209278.15           0.0            3.0      Test   \n",
       "321306        3.0  209278.15           0.0            3.0      Test   \n",
       "321307        3.0  209278.15           0.0            3.0      Test   \n",
       "321308        3.0  209278.15           0.0            3.0      Test   \n",
       "\n",
       "                   visitor_id                      visit_id process_step  \\\n",
       "0        427070339_1413275162   228976764_46825473280_96584      confirm   \n",
       "1        427070339_1413275162   228976764_46825473280_96584      confirm   \n",
       "2        427070339_1413275162   228976764_46825473280_96584      confirm   \n",
       "3        427070339_1413275162   228976764_46825473280_96584       step_3   \n",
       "4        427070339_1413275162   228976764_46825473280_96584       step_2   \n",
       "...                       ...                           ...          ...   \n",
       "321304  317123960_46820919455  769876461_30381166055_830233       step_2   \n",
       "321305  317123960_46820919455  769876461_30381166055_830233       step_1   \n",
       "321306  317123960_46820919455  769876461_30381166055_830233        start   \n",
       "321307  317123960_46820919455  769876461_30381166055_830233        start   \n",
       "321308  317123960_46820919455  769876461_30381166055_830233        start   \n",
       "\n",
       "                  date_time age_group  \n",
       "0       2017-04-02 11:51:13    senior  \n",
       "1       2017-04-02 11:47:50    senior  \n",
       "2       2017-04-02 11:46:45    senior  \n",
       "3       2017-04-02 11:23:08    senior  \n",
       "4       2017-04-02 11:22:24    senior  \n",
       "...                     ...       ...  \n",
       "321304  2017-03-30 23:59:15    senior  \n",
       "321305  2017-03-30 23:58:51    senior  \n",
       "321306  2017-03-30 23:58:40    senior  \n",
       "321307  2017-03-30 23:55:11    senior  \n",
       "321308  2017-03-31 00:16:12    senior  \n",
       "\n",
       "[321309 rows x 15 columns]"
      ]
     },
     "execution_count": 246,
     "metadata": {},
     "output_type": "execute_result"
    }
   ],
   "source": [
    "df_variation"
   ]
  },
  {
   "cell_type": "code",
   "execution_count": 303,
   "id": "201ca473",
   "metadata": {},
   "outputs": [
    {
     "name": "stdout",
     "output_type": "stream",
     "text": [
      "  Variation    age_group  n_clients\n",
      "0   Control        young       6330\n",
      "1   Control  middle-aged      11227\n",
      "2   Control       senior       5941\n",
      "3      Test        young       7484\n",
      "4      Test  middle-aged      12826\n",
      "5      Test       senior       6617\n"
     ]
    },
    {
     "name": "stderr",
     "output_type": "stream",
     "text": [
      "/var/folders/zv/n5tftmvs15g6v9bt94cd5v400000gn/T/ipykernel_35814/366546883.py:5: FutureWarning: The default of observed=False is deprecated and will be changed to True in a future version of pandas. Pass observed=False to retain current behavior or observed=True to adopt the future default and silence this warning.\n",
      "  age_counts = unique_clients.groupby(['Variation', 'age_group']).size().reset_index(name='n_clients')\n"
     ]
    }
   ],
   "source": [
    "# S'assurer qu'on ne compte chaque client qu'une seule fois\n",
    "unique_clients = df_variation.drop_duplicates(subset=['client_id'])\n",
    "\n",
    "# Compter par age_group et Variation\n",
    "age_counts = unique_clients.groupby(['Variation', 'age_group']).size().reset_index(name='n_clients')\n",
    "\n",
    "print(age_counts)"
   ]
  },
  {
   "cell_type": "code",
   "execution_count": 247,
   "id": "a006982c",
   "metadata": {},
   "outputs": [],
   "source": [
    "#####################################################"
   ]
  },
  {
   "cell_type": "markdown",
   "id": "21867294",
   "metadata": {},
   "source": [
    "# Process steps "
   ]
  },
  {
   "cell_type": "code",
   "execution_count": 308,
   "id": "be72109b",
   "metadata": {},
   "outputs": [
    {
     "data": {
      "text/plain": [
       "50500"
      ]
     },
     "execution_count": 308,
     "metadata": {},
     "output_type": "execute_result"
    }
   ],
   "source": [
    "df_variation[\"client_id\"].nunique()"
   ]
  },
  {
   "cell_type": "code",
   "execution_count": 248,
   "id": "a45e674b",
   "metadata": {},
   "outputs": [
    {
     "data": {
      "text/plain": [
       "array(['confirm', 'step_3', 'step_2', 'step_1', 'start'], dtype=object)"
      ]
     },
     "execution_count": 248,
     "metadata": {},
     "output_type": "execute_result"
    }
   ],
   "source": [
    "df_variation[\"process_step\"].unique()"
   ]
  },
  {
   "cell_type": "markdown",
   "id": "d9356994",
   "metadata": {},
   "source": [
    "**Digital customer journey Control & Test**"
   ]
  },
  {
   "cell_type": "code",
   "execution_count": 249,
   "id": "2b54ba62",
   "metadata": {},
   "outputs": [
    {
     "name": "stdout",
     "output_type": "stream",
     "text": [
      "  process_step Variation  n_clients\n",
      "0      confirm   Control      15434\n",
      "1      confirm      Test      18687\n",
      "2        start   Control      23397\n",
      "3        start      Test      26679\n",
      "4       step_1   Control      20152\n",
      "5       step_1      Test      24267\n",
      "6       step_2   Control      18650\n",
      "7       step_2      Test      22258\n",
      "8       step_3   Control      17422\n",
      "9       step_3      Test      20881\n"
     ]
    }
   ],
   "source": [
    "# Number of customers per steps\n",
    "\n",
    "clients_per_step_variation = df_variation.groupby(['process_step', 'Variation'])['client_id'].nunique().reset_index()\n",
    "\n",
    "clients_per_step_variation.columns = ['process_step', 'Variation', 'n_clients']\n",
    "\n",
    "print(clients_per_step_variation)"
   ]
  },
  {
   "cell_type": "markdown",
   "id": "72fd4c80",
   "metadata": {},
   "source": [
    "👉 This shows how many customers reach each stage."
   ]
  },
  {
   "cell_type": "code",
   "execution_count": 250,
   "id": "f1c914a6",
   "metadata": {},
   "outputs": [
    {
     "name": "stdout",
     "output_type": "stream",
     "text": [
      "   client_id  n_steps Variation\n",
      "0       1028        4   Control\n",
      "1       1104        1   Control\n",
      "2       1186        3   Control\n",
      "3       1195        5   Control\n",
      "4       1197        5   Control\n"
     ]
    }
   ],
   "source": [
    "# Filter by variation\n",
    "df_control = df_variation[df_variation['Variation'] == 'Control']\n",
    "df_test = df_variation[df_variation['Variation'] == 'Test']\n",
    "\n",
    "# Number of steps by client\n",
    "steps_control = df_control.groupby('client_id')['process_step'].nunique().reset_index()\n",
    "steps_control.columns = ['client_id', 'n_steps']\n",
    "steps_control['Variation'] = 'Control'\n",
    "\n",
    "steps_test = df_test.groupby('client_id')['process_step'].nunique().reset_index()\n",
    "steps_test.columns = ['client_id', 'n_steps']\n",
    "steps_test['Variation'] = 'Test'\n",
    "\n",
    "# Combine the both for comparison\n",
    "variation_steps_comparison = pd.concat([steps_control, steps_test], axis=0)\n",
    "\n",
    "print(variation_steps_comparison.head())\n"
   ]
  },
  {
   "cell_type": "code",
   "execution_count": 251,
   "id": "5819858e",
   "metadata": {},
   "outputs": [
    {
     "name": "stderr",
     "output_type": "stream",
     "text": [
      "/var/folders/zv/n5tftmvs15g6v9bt94cd5v400000gn/T/ipykernel_35814/3533955202.py:5: FutureWarning: \n",
      "\n",
      "Passing `palette` without assigning `hue` is deprecated and will be removed in v0.14.0. Assign the `x` variable to `hue` and set `legend=False` for the same effect.\n",
      "\n",
      "  sns.boxplot(data=variation_steps_comparison, x='Variation', y='n_steps', palette='pastel')\n"
     ]
    },
    {
     "data": {
      "image/png": "[encoded data removed]",
      "text/plain": [
       "<Figure size 600x300 with 1 Axes>"
      ]
     },
     "metadata": {},
     "output_type": "display_data"
    }
   ],
   "source": [
    "import seaborn as sns\n",
    "import matplotlib.pyplot as plt\n",
    "\n",
    "plt.figure(figsize=(6,3))\n",
    "sns.boxplot(data=variation_steps_comparison, x='Variation', y='n_steps', palette='pastel')\n",
    "plt.title(\"Comparison of the number of steps taken per customer\")\n",
    "plt.ylabel(\"Steps number\")\n",
    "plt.show()"
   ]
  },
  {
   "cell_type": "code",
   "execution_count": 252,
   "id": "b418dacb",
   "metadata": {},
   "outputs": [
    {
     "name": "stdout",
     "output_type": "stream",
     "text": [
      "               mean  median  min  max\n",
      "Variation                            \n",
      "Control    4.039393     5.0    1    5\n",
      "Test       4.181697     5.0    1    5\n"
     ]
    }
   ],
   "source": [
    "summary = variation_steps_comparison.groupby('Variation')['n_steps'].agg(['mean','median','min','max'])\n",
    "print(summary)"
   ]
  },
  {
   "cell_type": "code",
   "execution_count": null,
   "id": "e2ff0a3a",
   "metadata": {},
   "outputs": [],
   "source": []
  },
  {
   "cell_type": "code",
   "execution_count": 253,
   "id": "50f5ac1e",
   "metadata": {},
   "outputs": [
    {
     "name": "stdout",
     "output_type": "stream",
     "text": [
      "       client_id  n_steps Variation\n",
      "0            555        5      Test\n",
      "1            647        5      Test\n",
      "2            934        1      Test\n",
      "3           1028        4   Control\n",
      "4           1104        1   Control\n",
      "...          ...      ...       ...\n",
      "50495    9999150        2      Test\n",
      "50496    9999400        5      Test\n",
      "50497    9999626        2      Test\n",
      "50498    9999729        5      Test\n",
      "50499    9999832        2      Test\n",
      "\n",
      "[50500 rows x 3 columns]\n"
     ]
    }
   ],
   "source": [
    "# The number of steps taken per customer\n",
    "\n",
    "# Count the number of distinct steps taken by each customer\n",
    "steps_per_client = df_variation.groupby('client_id')['process_step'].nunique().reset_index()\n",
    "\n",
    "# Rename column\n",
    "steps_per_client.columns = ['client_id', 'n_steps']\n",
    "\n",
    "# Add column\n",
    "variation_map = df_variation.groupby('client_id')['Variation'].first().reset_index()\n",
    "steps_per_client = steps_per_client.merge(variation_map, on='client_id', how='left')\n",
    "\n",
    "print(steps_per_client)"
   ]
  },
  {
   "cell_type": "code",
   "execution_count": 254,
   "id": "9bd42953",
   "metadata": {},
   "outputs": [
    {
     "name": "stdout",
     "output_type": "stream",
     "text": [
      "  Variation  n_steps  n_clients\n",
      "0   Control        1       3327\n",
      "1   Control        2       1489\n",
      "2   Control        3       1320\n",
      "3   Control        4       2190\n",
      "4   Control        5      15206\n",
      "5      Test        1       2654\n",
      "6      Test        2       2013\n",
      "7      Test        3       1450\n",
      "8      Test        4       2513\n",
      "9      Test        5      18338\n"
     ]
    }
   ],
   "source": [
    "# Number of client by number of steps & variation\n",
    "steps_distribution = variation_steps_comparison.groupby(['Variation','n_steps']).size().reset_index(name='n_clients')\n",
    "\n",
    "print(steps_distribution)"
   ]
  },
  {
   "cell_type": "code",
   "execution_count": 255,
   "id": "22607251",
   "metadata": {},
   "outputs": [],
   "source": [
    "# Test clients\n",
    "steps_test = variation_steps_comparison[variation_steps_comparison['Variation'] == 'Test']\n",
    "\n",
    "# Control clients\n",
    "steps_control = variation_steps_comparison[variation_steps_comparison['Variation'] == 'Control']"
   ]
  },
  {
   "cell_type": "code",
   "execution_count": 256,
   "id": "b81fe59e",
   "metadata": {},
   "outputs": [
    {
     "name": "stdout",
     "output_type": "stream",
     "text": [
      "Number of client by number of steps taken in Control variation: \n"
     ]
    },
    {
     "data": {
      "text/html": [
       "<div>\n",
       "<style scoped>\n",
       "    .dataframe tbody tr th:only-of-type {\n",
       "        vertical-align: middle;\n",
       "    }\n",
       "\n",
       "    .dataframe tbody tr th {\n",
       "        vertical-align: top;\n",
       "    }\n",
       "\n",
       "    .dataframe thead th {\n",
       "        text-align: right;\n",
       "    }\n",
       "</style>\n",
       "<table border=\"1\" class=\"dataframe\">\n",
       "  <thead>\n",
       "    <tr style=\"text-align: right;\">\n",
       "      <th></th>\n",
       "      <th>n_steps</th>\n",
       "      <th>n_clients</th>\n",
       "      <th>percentage</th>\n",
       "    </tr>\n",
       "  </thead>\n",
       "  <tbody>\n",
       "    <tr>\n",
       "      <th>0</th>\n",
       "      <td>1</td>\n",
       "      <td>3327</td>\n",
       "      <td>14.1</td>\n",
       "    </tr>\n",
       "    <tr>\n",
       "      <th>1</th>\n",
       "      <td>2</td>\n",
       "      <td>1489</td>\n",
       "      <td>6.3</td>\n",
       "    </tr>\n",
       "    <tr>\n",
       "      <th>2</th>\n",
       "      <td>3</td>\n",
       "      <td>1320</td>\n",
       "      <td>5.6</td>\n",
       "    </tr>\n",
       "    <tr>\n",
       "      <th>3</th>\n",
       "      <td>4</td>\n",
       "      <td>2190</td>\n",
       "      <td>9.3</td>\n",
       "    </tr>\n",
       "    <tr>\n",
       "      <th>4</th>\n",
       "      <td>5</td>\n",
       "      <td>15206</td>\n",
       "      <td>64.6</td>\n",
       "    </tr>\n",
       "  </tbody>\n",
       "</table>\n",
       "</div>"
      ],
      "text/plain": [
       "   n_steps  n_clients  percentage\n",
       "0        1       3327        14.1\n",
       "1        2       1489         6.3\n",
       "2        3       1320         5.6\n",
       "3        4       2190         9.3\n",
       "4        5      15206        64.6"
      ]
     },
     "execution_count": 256,
     "metadata": {},
     "output_type": "execute_result"
    }
   ],
   "source": [
    "# Control\n",
    "steps_dist_control = steps_control['n_steps'].value_counts().sort_index().reset_index()\n",
    "steps_dist_control.columns = ['n_steps','n_clients']\n",
    "steps_dist_control['percentage'] = (steps_dist_control['n_clients'] / steps_dist_control['n_clients'].sum() * 100).round(1)\n",
    "\n",
    "print(\"Number of client by number of steps taken in Control variation: \")\n",
    "steps_dist_control"
   ]
  },
  {
   "cell_type": "code",
   "execution_count": 257,
   "id": "12e19be3",
   "metadata": {},
   "outputs": [
    {
     "name": "stdout",
     "output_type": "stream",
     "text": [
      "Number of client by number of steps taken in Test variation: \n"
     ]
    },
    {
     "data": {
      "text/html": [
       "<div>\n",
       "<style scoped>\n",
       "    .dataframe tbody tr th:only-of-type {\n",
       "        vertical-align: middle;\n",
       "    }\n",
       "\n",
       "    .dataframe tbody tr th {\n",
       "        vertical-align: top;\n",
       "    }\n",
       "\n",
       "    .dataframe thead th {\n",
       "        text-align: right;\n",
       "    }\n",
       "</style>\n",
       "<table border=\"1\" class=\"dataframe\">\n",
       "  <thead>\n",
       "    <tr style=\"text-align: right;\">\n",
       "      <th></th>\n",
       "      <th>n_steps</th>\n",
       "      <th>n_clients</th>\n",
       "      <th>percentage</th>\n",
       "    </tr>\n",
       "  </thead>\n",
       "  <tbody>\n",
       "    <tr>\n",
       "      <th>0</th>\n",
       "      <td>1</td>\n",
       "      <td>2654</td>\n",
       "      <td>9.8</td>\n",
       "    </tr>\n",
       "    <tr>\n",
       "      <th>1</th>\n",
       "      <td>2</td>\n",
       "      <td>2013</td>\n",
       "      <td>7.5</td>\n",
       "    </tr>\n",
       "    <tr>\n",
       "      <th>2</th>\n",
       "      <td>3</td>\n",
       "      <td>1450</td>\n",
       "      <td>5.4</td>\n",
       "    </tr>\n",
       "    <tr>\n",
       "      <th>3</th>\n",
       "      <td>4</td>\n",
       "      <td>2513</td>\n",
       "      <td>9.3</td>\n",
       "    </tr>\n",
       "    <tr>\n",
       "      <th>4</th>\n",
       "      <td>5</td>\n",
       "      <td>18338</td>\n",
       "      <td>68.0</td>\n",
       "    </tr>\n",
       "  </tbody>\n",
       "</table>\n",
       "</div>"
      ],
      "text/plain": [
       "   n_steps  n_clients  percentage\n",
       "0        1       2654         9.8\n",
       "1        2       2013         7.5\n",
       "2        3       1450         5.4\n",
       "3        4       2513         9.3\n",
       "4        5      18338        68.0"
      ]
     },
     "execution_count": 257,
     "metadata": {},
     "output_type": "execute_result"
    }
   ],
   "source": [
    "# Test\n",
    "steps_dist_test = steps_test['n_steps'].value_counts().sort_index().reset_index()\n",
    "steps_dist_test.columns = ['n_steps','n_clients']\n",
    "steps_dist_test['percentage'] = (steps_dist_test['n_clients'] / steps_dist_test['n_clients'].sum() * 100).round(1)\n",
    "\n",
    "print(\"Number of client by number of steps taken in Test variation: \")\n",
    "steps_dist_test"
   ]
  },
  {
   "cell_type": "markdown",
   "id": "1000e810",
   "metadata": {},
   "source": [
    "👉 CONTROL : 3327 customers stopped at the 1st step -> 14,1%\n",
    "\n",
    "👉 TEST : 2654 customers stopped at the 1st step -> 9,8%\n",
    "\n",
    "3 steps completed → 1320 Control clients vs 1450 Test clients\n",
    "\n",
    "👉 18338 customers reach the last step on TEST → the largest group → this suggests that motivated customers go all the way, and that those who pass the 1st step have a good probability of completing."
   ]
  },
  {
   "cell_type": "markdown",
   "id": "1a5c6bb3",
   "metadata": {},
   "source": [
    "--------------------------------\n",
    "Completion rate = % of customers who proceed to the final step (confirm).\n",
    "\n",
    "Initial abandonment rate = % of customers who stop after a single step."
   ]
  },
  {
   "cell_type": "code",
   "execution_count": 258,
   "id": "7d9b826b",
   "metadata": {},
   "outputs": [
    {
     "name": "stdout",
     "output_type": "stream",
     "text": [
      "Initial dropout rate (Control) : 14.1 %\n",
      "Completion rate (Control) : 65.6 %\n"
     ]
    }
   ],
   "source": [
    "# Filter Control clients\n",
    "df_control = df_variation[df_variation['Variation'] == 'Control']\n",
    "\n",
    "total_clients = df_control['client_id'].nunique()\n",
    "\n",
    "# Number of steps taken per customer Control\n",
    "steps_per_client_control = df_control.groupby('client_id')['process_step'].nunique()\n",
    "\n",
    "# Initial abandonment = customers who have only taken 1 step\n",
    "abandon_initial = (steps_per_client_control == 1).mean() * 100\n",
    "\n",
    "clients_completed = df_control.groupby('client_id')['process_step'].apply(lambda x: 'confirm' in x.values)\n",
    "completion_rate = clients_completed.mean() * 100\n",
    "\n",
    "print(f\"Initial dropout rate (Control) : {abandon_initial:.1f} %\")\n",
    "print(f\"Completion rate (Control) : {completion_rate:.1f} %\")"
   ]
  },
  {
   "cell_type": "markdown",
   "id": "0328ed51",
   "metadata": {},
   "source": [
    "👉 14.1% of Control group customers abandon the online process at the first stage.\n",
    "\n",
    "👉 65.6% of Control customers successfully reached the final confirmation step.\n",
    "\n",
    "- The majority of customers complete the process, but around a third do not reach the end.\n",
    "- Therefore, there remains room for improvement to increase the completion rate, for example through a more intuitive interface or contextual prompts."
   ]
  },
  {
   "cell_type": "code",
   "execution_count": 259,
   "id": "43fc74ba",
   "metadata": {},
   "outputs": [
    {
     "name": "stdout",
     "output_type": "stream",
     "text": [
      "Initial dropout rate (Test) : 9.8 %\n",
      "Completion rate (Test) : 69.3 %\n"
     ]
    }
   ],
   "source": [
    "# Filter Test clients\n",
    "df_test = df_variation[df_variation['Variation'] == 'Test']\n",
    "\n",
    "total_clients = df_test['client_id'].nunique()\n",
    "\n",
    "# Number of steps taken per customer Test\n",
    "steps_per_client_test = df_test.groupby('client_id')['process_step'].nunique()\n",
    "\n",
    "# Initial abandonment = customers who have only taken 1 step\n",
    "abandon_initial = (steps_per_client_test == 1).mean() * 100\n",
    "\n",
    "clients_completed = df_test.groupby('client_id')['process_step'].apply(lambda x: 'confirm' in x.values)\n",
    "completion_rate = clients_completed.mean() * 100\n",
    "\n",
    "print(f\"Initial dropout rate (Test) : {abandon_initial:.1f} %\")\n",
    "print(f\"Completion rate (Test) : {completion_rate:.1f} %\")"
   ]
  },
  {
   "cell_type": "markdown",
   "id": "17d59f47",
   "metadata": {},
   "source": [
    "👉 Only 9.8% of customers in the Test group abandoned at the first step.\n",
    "\n",
    "- Initial abandonment was lower than in the Control group (14.1%).\n",
    "- This suggests that the new interface or contextual prompts encouraged customers to continue the process from the beginning.\n",
    "\n",
    "👉  69.3% of Test customers reached the final confirmation stage.\n",
    "\n",
    "- The completion rate is higher than in the Control group (65.6%).\n",
    "- This indicates that the Test overall improves customer progress through the journey.\n"
   ]
  },
  {
   "cell_type": "code",
   "execution_count": 260,
   "id": "8a093bd2",
   "metadata": {},
   "outputs": [
    {
     "data": {
      "image/png": "[encoded data removed]",
      "text/plain": [
       "<Figure size 600x300 with 1 Axes>"
      ]
     },
     "metadata": {},
     "output_type": "display_data"
    }
   ],
   "source": [
    "# Vizualisation \n",
    "\n",
    "import matplotlib.pyplot as plt\n",
    "import seaborn as sns\n",
    "\n",
    "# Results\n",
    "results = {\n",
    "    \"Variation\": [\"Control\", \"Test\"],\n",
    "    \"Dropout initial (%)\": [14.1, 9.8],\n",
    "    \"Completion rate (%)\": [65.6, 69.3]\n",
    "}\n",
    "\n",
    "# Transformation DataFrame\n",
    "df_results = pd.DataFrame(results)\n",
    "\n",
    "# Transforme in \"long\" format for plotting with seaborn\n",
    "df_long = df_results.melt(id_vars=\"Variation\", \n",
    "                          value_vars=[\"Dropout initial (%)\", \"Completion rate (%)\"], \n",
    "                          var_name=\"Metric\", \n",
    "                          value_name=\"Percentage\")\n",
    "\n",
    "# Plot\n",
    "plt.figure(figsize=(6,3))\n",
    "ax = sns.barplot(data=df_long, x=\"Metric\", y=\"Percentage\", hue=\"Variation\", palette=\"pastel\")\n",
    "\n",
    "for container in ax.containers:\n",
    "    ax.bar_label(container, fmt=\"%.1f\", label_type=\"edge\")\n",
    "\n",
    "plt.title(\"Dropout vs Completion rates by Variation\")\n",
    "plt.ylabel(\"Percentage (%)\")\n",
    "plt.xlabel(\"\")\n",
    "plt.legend(title=\"Group\")\n",
    "plt.ylim(0, 100)\n",
    "plt.show()\n"
   ]
  },
  {
   "cell_type": "markdown",
   "id": "0ef1bb76",
   "metadata": {},
   "source": [
    "**These results reinforce the idea that the new version (Test) reduces early abandonments and improves overall completion.**"
   ]
  },
  {
   "cell_type": "code",
   "execution_count": 261,
   "id": "e3a0ad02",
   "metadata": {},
   "outputs": [],
   "source": [
    "#####################################################"
   ]
  },
  {
   "cell_type": "markdown",
   "id": "fe6b04ab",
   "metadata": {},
   "source": [
    "**Time Spent on Each Step**"
   ]
  },
  {
   "cell_type": "code",
   "execution_count": 262,
   "id": "0f1d69c4",
   "metadata": {},
   "outputs": [
    {
     "name": "stderr",
     "output_type": "stream",
     "text": [
      "/var/folders/zv/n5tftmvs15g6v9bt94cd5v400000gn/T/ipykernel_35814/1268340791.py:2: SettingWithCopyWarning: \n",
      "A value is trying to be set on a copy of a slice from a DataFrame.\n",
      "Try using .loc[row_indexer,col_indexer] = value instead\n",
      "\n",
      "See the caveats in the documentation: https://pandas.pydata.org/pandas-docs/stable/user_guide/indexing.html#returning-a-view-versus-a-copy\n",
      "  df_variation['date_time'] = pd.to_datetime(df_variation['date_time'])\n"
     ]
    }
   ],
   "source": [
    "# Type\n",
    "df_variation['date_time'] = pd.to_datetime(df_variation['date_time'])"
   ]
  },
  {
   "cell_type": "code",
   "execution_count": 263,
   "id": "e7026151",
   "metadata": {},
   "outputs": [],
   "source": [
    "# Sort data by client, variation and time\n",
    "df_sorted = df_variation.sort_values(by=['Variation','client_id','date_time'])"
   ]
  },
  {
   "cell_type": "code",
   "execution_count": 264,
   "id": "5254e1f3",
   "metadata": {},
   "outputs": [],
   "source": [
    "# Calculate the duration between two consecutive steps per customer\n",
    "df_sorted['time_spent'] = df_sorted.groupby(['client_id', 'visit_id'])['date_time'].diff().dt.total_seconds() / 60  # minutes"
   ]
  },
  {
   "cell_type": "code",
   "execution_count": 265,
   "id": "f55be20e",
   "metadata": {},
   "outputs": [
    {
     "data": {
      "text/html": [
       "<div>\n",
       "<style scoped>\n",
       "    .dataframe tbody tr th:only-of-type {\n",
       "        vertical-align: middle;\n",
       "    }\n",
       "\n",
       "    .dataframe tbody tr th {\n",
       "        vertical-align: top;\n",
       "    }\n",
       "\n",
       "    .dataframe thead th {\n",
       "        text-align: right;\n",
       "    }\n",
       "</style>\n",
       "<table border=\"1\" class=\"dataframe\">\n",
       "  <thead>\n",
       "    <tr style=\"text-align: right;\">\n",
       "      <th></th>\n",
       "      <th>Variation</th>\n",
       "      <th>process_step</th>\n",
       "      <th>time_spent</th>\n",
       "    </tr>\n",
       "  </thead>\n",
       "  <tbody>\n",
       "    <tr>\n",
       "      <th>0</th>\n",
       "      <td>Control</td>\n",
       "      <td>confirm</td>\n",
       "      <td>2.144412</td>\n",
       "    </tr>\n",
       "    <tr>\n",
       "      <th>1</th>\n",
       "      <td>Control</td>\n",
       "      <td>start</td>\n",
       "      <td>2.522767</td>\n",
       "    </tr>\n",
       "    <tr>\n",
       "      <th>2</th>\n",
       "      <td>Control</td>\n",
       "      <td>step_1</td>\n",
       "      <td>0.716646</td>\n",
       "    </tr>\n",
       "    <tr>\n",
       "      <th>3</th>\n",
       "      <td>Control</td>\n",
       "      <td>step_2</td>\n",
       "      <td>0.644464</td>\n",
       "    </tr>\n",
       "    <tr>\n",
       "      <th>4</th>\n",
       "      <td>Control</td>\n",
       "      <td>step_3</td>\n",
       "      <td>1.549071</td>\n",
       "    </tr>\n",
       "    <tr>\n",
       "      <th>5</th>\n",
       "      <td>Test</td>\n",
       "      <td>confirm</td>\n",
       "      <td>2.146161</td>\n",
       "    </tr>\n",
       "    <tr>\n",
       "      <th>6</th>\n",
       "      <td>Test</td>\n",
       "      <td>start</td>\n",
       "      <td>2.452339</td>\n",
       "    </tr>\n",
       "    <tr>\n",
       "      <th>7</th>\n",
       "      <td>Test</td>\n",
       "      <td>step_1</td>\n",
       "      <td>0.628406</td>\n",
       "    </tr>\n",
       "    <tr>\n",
       "      <th>8</th>\n",
       "      <td>Test</td>\n",
       "      <td>step_2</td>\n",
       "      <td>0.802194</td>\n",
       "    </tr>\n",
       "    <tr>\n",
       "      <th>9</th>\n",
       "      <td>Test</td>\n",
       "      <td>step_3</td>\n",
       "      <td>1.614183</td>\n",
       "    </tr>\n",
       "  </tbody>\n",
       "</table>\n",
       "</div>"
      ],
      "text/plain": [
       "  Variation process_step  time_spent\n",
       "0   Control      confirm    2.144412\n",
       "1   Control        start    2.522767\n",
       "2   Control       step_1    0.716646\n",
       "3   Control       step_2    0.644464\n",
       "4   Control       step_3    1.549071\n",
       "5      Test      confirm    2.146161\n",
       "6      Test        start    2.452339\n",
       "7      Test       step_1    0.628406\n",
       "8      Test       step_2    0.802194\n",
       "9      Test       step_3    1.614183"
      ]
     },
     "execution_count": 265,
     "metadata": {},
     "output_type": "execute_result"
    }
   ],
   "source": [
    "# Delete lines where there is no duration (eg: first customer step)\n",
    "df_steps_time = df_sorted.dropna(subset=['time_spent'])\n",
    "\n",
    "# Average time per step and per variation\n",
    "avg_time_per_step = (\n",
    "    df_steps_time.groupby(['Variation','process_step'])['time_spent']\n",
    "    .mean()\n",
    "    .reset_index()\n",
    ")\n",
    "\n",
    "# Order of steps\n",
    "step_order = [\"start\", \"step_1\", \"step_2\", \"step_3\", \"confirm\"]\n",
    "avg_time_per_step['process_step'] = pd.Categorical(avg_time_per_step['process_step'], categories=step_order, ordered=True)\n",
    "\n",
    "avg_time_per_step"
   ]
  },
  {
   "cell_type": "code",
   "execution_count": 266,
   "id": "b029d3c0",
   "metadata": {},
   "outputs": [
    {
     "data": {
      "text/html": [
       "<div>\n",
       "<style scoped>\n",
       "    .dataframe tbody tr th:only-of-type {\n",
       "        vertical-align: middle;\n",
       "    }\n",
       "\n",
       "    .dataframe tbody tr th {\n",
       "        vertical-align: top;\n",
       "    }\n",
       "\n",
       "    .dataframe thead th {\n",
       "        text-align: right;\n",
       "    }\n",
       "</style>\n",
       "<table border=\"1\" class=\"dataframe\">\n",
       "  <thead>\n",
       "    <tr style=\"text-align: right;\">\n",
       "      <th></th>\n",
       "      <th>Variation</th>\n",
       "      <th>process_step</th>\n",
       "      <th>mean</th>\n",
       "      <th>median</th>\n",
       "    </tr>\n",
       "  </thead>\n",
       "  <tbody>\n",
       "    <tr>\n",
       "      <th>0</th>\n",
       "      <td>Control</td>\n",
       "      <td>confirm</td>\n",
       "      <td>2.144412</td>\n",
       "      <td>1.216667</td>\n",
       "    </tr>\n",
       "    <tr>\n",
       "      <th>1</th>\n",
       "      <td>Control</td>\n",
       "      <td>start</td>\n",
       "      <td>2.522767</td>\n",
       "      <td>0.616667</td>\n",
       "    </tr>\n",
       "    <tr>\n",
       "      <th>2</th>\n",
       "      <td>Control</td>\n",
       "      <td>step_1</td>\n",
       "      <td>0.716646</td>\n",
       "      <td>0.300000</td>\n",
       "    </tr>\n",
       "    <tr>\n",
       "      <th>3</th>\n",
       "      <td>Control</td>\n",
       "      <td>step_2</td>\n",
       "      <td>0.644464</td>\n",
       "      <td>0.333333</td>\n",
       "    </tr>\n",
       "    <tr>\n",
       "      <th>4</th>\n",
       "      <td>Control</td>\n",
       "      <td>step_3</td>\n",
       "      <td>1.549071</td>\n",
       "      <td>1.100000</td>\n",
       "    </tr>\n",
       "    <tr>\n",
       "      <th>5</th>\n",
       "      <td>Test</td>\n",
       "      <td>confirm</td>\n",
       "      <td>2.146161</td>\n",
       "      <td>0.933333</td>\n",
       "    </tr>\n",
       "    <tr>\n",
       "      <th>6</th>\n",
       "      <td>Test</td>\n",
       "      <td>start</td>\n",
       "      <td>2.452339</td>\n",
       "      <td>0.916667</td>\n",
       "    </tr>\n",
       "    <tr>\n",
       "      <th>7</th>\n",
       "      <td>Test</td>\n",
       "      <td>step_1</td>\n",
       "      <td>0.628406</td>\n",
       "      <td>0.183333</td>\n",
       "    </tr>\n",
       "    <tr>\n",
       "      <th>8</th>\n",
       "      <td>Test</td>\n",
       "      <td>step_2</td>\n",
       "      <td>0.802194</td>\n",
       "      <td>0.416667</td>\n",
       "    </tr>\n",
       "    <tr>\n",
       "      <th>9</th>\n",
       "      <td>Test</td>\n",
       "      <td>step_3</td>\n",
       "      <td>1.614183</td>\n",
       "      <td>1.100000</td>\n",
       "    </tr>\n",
       "  </tbody>\n",
       "</table>\n",
       "</div>"
      ],
      "text/plain": [
       "  Variation process_step      mean    median\n",
       "0   Control      confirm  2.144412  1.216667\n",
       "1   Control        start  2.522767  0.616667\n",
       "2   Control       step_1  0.716646  0.300000\n",
       "3   Control       step_2  0.644464  0.333333\n",
       "4   Control       step_3  1.549071  1.100000\n",
       "5      Test      confirm  2.146161  0.933333\n",
       "6      Test        start  2.452339  0.916667\n",
       "7      Test       step_1  0.628406  0.183333\n",
       "8      Test       step_2  0.802194  0.416667\n",
       "9      Test       step_3  1.614183  1.100000"
      ]
     },
     "execution_count": 266,
     "metadata": {},
     "output_type": "execute_result"
    }
   ],
   "source": [
    "time_stats = df_steps_time.groupby(['Variation', 'process_step'])['time_spent'].agg(['mean', 'median']).reset_index()\n",
    "\n",
    "time_stats"
   ]
  },
  {
   "cell_type": "code",
   "execution_count": 292,
   "id": "9e5a419b",
   "metadata": {},
   "outputs": [
    {
     "data": {
      "image/png": "[encoded data removed]",
      "text/plain": [
       "<Figure size 1200x400 with 2 Axes>"
      ]
     },
     "metadata": {},
     "output_type": "display_data"
    }
   ],
   "source": [
    "step_order = ['start', 'step_1', 'step_2', 'step_3', 'confirm']\n",
    "\n",
    "fig, axes = plt.subplots(1, 2, figsize=(12, 4), sharey=True)\n",
    "\n",
    "# Moyenne\n",
    "sns.barplot(data=time_stats, x=\"process_step\", y=\"mean\", hue=\"Variation\", palette=\"pastel\", order=step_order, ax=axes[0])\n",
    "axes[0].set_title(\"Average time per stage (minutes)\")\n",
    "axes[0].set_ylabel(\"Time (minutes)\")\n",
    "axes[0].set_xlabel(\"Steps\")\n",
    "\n",
    "# Médiane\n",
    "sns.barplot(data=time_stats, x=\"process_step\", y=\"median\", hue=\"Variation\", palette=\"pastel\", ax=axes[1])\n",
    "axes[1].set_title(\"Median time per stage (minutes)\")\n",
    "axes[1].set_ylabel(\"\")\n",
    "axes[1].set_xlabel(\"Steps\")\n",
    "\n",
    "plt.tight_layout()\n",
    "plt.show()"
   ]
  },
  {
   "cell_type": "code",
   "execution_count": 296,
   "id": "681b09b2",
   "metadata": {},
   "outputs": [
    {
     "data": {
      "image/png": "[encoded data removed]",
      "text/plain": [
       "<Figure size 800x400 with 1 Axes>"
      ]
     },
     "metadata": {},
     "output_type": "display_data"
    }
   ],
   "source": [
    "# Comparative visualization (averages)\n",
    "\n",
    "step_order = ['start', 'step_1', 'step_2', 'step_3', 'confirm']\n",
    "\n",
    "plt.figure(figsize=(8,4))\n",
    "\n",
    "for var in ['Control', 'Test']:\n",
    "    subset = time_stats[time_stats['Variation'] == var].copy()\n",
    "    \n",
    "    # Forcer l'ordre des étapes\n",
    "    subset['process_step'] = pd.Categorical(subset['process_step'], categories=step_order, ordered=True)\n",
    "    subset = subset.sort_values('process_step')\n",
    "    \n",
    "    plt.plot(subset['process_step'], subset['mean'], marker='o', label=f'{var} (mean)')\n",
    "\n",
    "plt.title(\"Average time spent per stage (minutes)\")\n",
    "plt.xlabel(\"Steps\")\n",
    "plt.ylabel(\"Average duration (minutes)\")\n",
    "plt.legend()\n",
    "plt.grid(alpha=0.3)\n",
    "plt.show()\n"
   ]
  },
  {
   "cell_type": "markdown",
   "id": "4e7e8b24",
   "metadata": {},
   "source": [
    "**Average vs. Median Time**\n",
    "\n",
    "💡 The average is significantly higher than the median, it means that there are outliers (a few customers who spend a lot of time on a step, probably because they left the session open or encountered a difficulty).\n",
    "\n",
    "The median better reflects the typical behavior of the majority of customers.\n",
    "\n",
    "**Test vs Control Comparison by Step**\n",
    "\n",
    "👉 Step_1 for Test group spends less time than the Control group, which is a sign that the new version is more effective or clearer from the start.\n",
    "\n",
    "\n",
    "Global\n",
    "\n",
    "👉 Overall, the times of the Test group (apart from Start) are lower than those of the Control, this is a good sign → the experience is smoother.\n",
    "\n",
    "👉 On average, the times are higher but the completion rate is also higher (already observed: ~69% vs ~65%), which means that the experience perhaps requires a little more commitment but is more successful."
   ]
  },
  {
   "cell_type": "code",
   "execution_count": 269,
   "id": "7539833b",
   "metadata": {},
   "outputs": [],
   "source": [
    "#####################################################"
   ]
  },
  {
   "cell_type": "markdown",
   "id": "274818e7",
   "metadata": {},
   "source": [
    "**Error Rates**\n",
    "\n",
    "If there's a step where users go back to a previous step, it may indicate confusion or an error. \n",
    "\n",
    "You should consider moving from a later step to an earlier one as an error."
   ]
  },
  {
   "cell_type": "code",
   "execution_count": 270,
   "id": "738cd9e6",
   "metadata": {},
   "outputs": [
    {
     "name": "stderr",
     "output_type": "stream",
     "text": [
      "/var/folders/zv/n5tftmvs15g6v9bt94cd5v400000gn/T/ipykernel_35814/3449880453.py:8: SettingWithCopyWarning: \n",
      "A value is trying to be set on a copy of a slice from a DataFrame.\n",
      "Try using .loc[row_indexer,col_indexer] = value instead\n",
      "\n",
      "See the caveats in the documentation: https://pandas.pydata.org/pandas-docs/stable/user_guide/indexing.html#returning-a-view-versus-a-copy\n",
      "  df_variation['step_num'] = df_variation['process_step'].map(step_rank)\n"
     ]
    },
    {
     "name": "stdout",
     "output_type": "stream",
     "text": [
      "  Variation process_step  n_errors  n_visits  error_pct\n",
      "0   Control      confirm         0     17505   0.000000\n",
      "1   Control        start      8488     47608  17.828936\n",
      "2   Control       step_1      2345     29668   7.904139\n",
      "3   Control       step_2      2372     25886   9.163254\n",
      "4   Control       step_3       130     22795   0.570301\n",
      "5      Test      confirm         0     25722   0.000000\n",
      "6      Test        start     13300     56474  23.550660\n",
      "7      Test       step_1      3459     38768   8.922307\n",
      "8      Test       step_2      2300     30989   7.421988\n",
      "9      Test       step_3        29     25894   0.111995\n"
     ]
    }
   ],
   "source": [
    "# Detect backtracking - Test vs Control\n",
    "\n",
    "# Steps order \n",
    "step_order = ['start', 'step_1', 'step_2', 'step_3', 'confirm']\n",
    "step_rank = {step: i for i, step in enumerate(step_order)}\n",
    "\n",
    "# Convert process_step in numeric\n",
    "df_variation['step_num'] = df_variation['process_step'].map(step_rank)\n",
    "\n",
    "# Sort by client and time\n",
    "df_variation = df_variation.sort_values(by=['client_id', 'date_time'])\n",
    "\n",
    "# Shift to compare current vs previous step\n",
    "df_variation['prev_step_num'] = df_variation.groupby('client_id')['step_num'].shift()\n",
    "\n",
    "# Error detection (rollback)\n",
    "df_variation['error'] = df_variation['step_num'] < df_variation['prev_step_num']\n",
    "\n",
    "# Count errors per variation + step\n",
    "error_counts = df_variation.groupby(['Variation', 'process_step'])['error'].sum().reset_index()\n",
    "error_counts.columns = ['Variation', 'process_step', 'n_errors']\n",
    "\n",
    "# Total number of visits per stage\n",
    "step_counts = df_variation.groupby(['Variation', 'process_step'])['process_step'].count().reset_index(name='n_visits')\n",
    "\n",
    "# Merger and percentage calculation\n",
    "error_counts = error_counts.merge(step_counts, on=['Variation', 'process_step'])\n",
    "error_counts['error_pct'] = (error_counts['n_errors'] / error_counts['n_visits']) * 100\n",
    "\n",
    "print(error_counts)"
   ]
  },
  {
   "cell_type": "markdown",
   "id": "f8463a95",
   "metadata": {},
   "source": [
    "💡 The high percentage show the steps where clients are most confused or encounter a problem."
   ]
  },
  {
   "cell_type": "code",
   "execution_count": 271,
   "id": "e8bfad9c",
   "metadata": {},
   "outputs": [
    {
     "data": {
      "image/png": "[encoded data removed]",
      "text/plain": [
       "<Figure size 700x400 with 1 Axes>"
      ]
     },
     "metadata": {},
     "output_type": "display_data"
    }
   ],
   "source": [
    "# Visualization\n",
    "# Order the steps \n",
    "step_order = ['start', 'step_1', 'step_2', 'step_3', 'confirm']\n",
    "error_counts['process_step'] = pd.Categorical(error_counts['process_step'], \n",
    "                                              categories=step_order, \n",
    "                                              ordered=True)\n",
    "\n",
    "plt.figure(figsize=(7,4))\n",
    "sns.barplot(\n",
    "    data=error_counts,\n",
    "    x=\"process_step\",\n",
    "    y=\"error_pct\",\n",
    "    hue=\"Variation\",  # Control vs Test separation\n",
    "    order=step_order  # Force the order\n",
    ")\n",
    "\n",
    "plt.title(\"Error by step - Test vs Control\", fontsize=14)\n",
    "plt.xlabel(\"Steps\")\n",
    "plt.ylabel(\"Error rate (%)\")\n",
    "plt.legend(title=\"Variation\")\n",
    "plt.tight_layout()\n",
    "plt.show()"
   ]
  },
  {
   "cell_type": "markdown",
   "id": "98b4f30a",
   "metadata": {},
   "source": [
    "Y axis = % of errors (backtracking)\n",
    "\n",
    "This is the percentage of times users returned to this step."
   ]
  },
  {
   "cell_type": "markdown",
   "id": "41c248b6",
   "metadata": {},
   "source": [
    "**start**\n",
    "\n",
    "- Control: 17.8% errors\n",
    "- Test: 23.6% errors\n",
    "\n",
    "👉 The new interface creates more confusion from the start. Users navigate back more often from the home page.\n",
    "\n",
    "**step_1**\n",
    "\n",
    "- Control: 7.9%\n",
    "- Test: 8.9%\n",
    "\n",
    "👉 A few more errors in the Test. This isn't dramatic, but it suggests that the changes haven't simplified this step.\n",
    "\n",
    "**step_2**\n",
    "\n",
    "- Control: 9.2%\n",
    "- Test: 7.4%\n",
    "\n",
    "👉 Here, the Test is better! The new interface clearly helps with this step (less backtracking).\n",
    "\n",
    "**step_3**\n",
    "\n",
    "- Control: 0.57%\n",
    "- Test: 0.11%\n",
    "\n",
    "👉 Almost no errors, but the Test performs even better.\n",
    "\n",
    "**confirm**\n",
    "\n",
    "- Zero errors in both cases (logical, it's the last page).\n",
    "\n",
    "\n",
    "\n",
    "**Overall interpretation**\n",
    "\n",
    "- ✅ Positive points for Test: fewer errors from step 2 and especially step 3.\n",
    "- ❌ Negative points: many more errors from the start (+6 points) and a few more at step 1.\n",
    "\n",
    "\n",
    "\n",
    "👉 The new interface is attractive to users and helps them progress after they've started.\n",
    "\n",
    "👉 But the entry point (start) is too complex: too many options? Confusing design? Lack of clarity in the first choices ."
   ]
  },
  {
   "cell_type": "code",
   "execution_count": 272,
   "id": "07dc9f0a",
   "metadata": {},
   "outputs": [],
   "source": [
    "#####################################################"
   ]
  },
  {
   "cell_type": "markdown",
   "id": "d6a6ff82",
   "metadata": {},
   "source": [
    "## Chi2 for errors rate"
   ]
  },
  {
   "cell_type": "code",
   "execution_count": 273,
   "id": "acfe7706",
   "metadata": {},
   "outputs": [
    {
     "name": "stdout",
     "output_type": "stream",
     "text": [
      "  process_step  error_pct_control  error_pct_test   chi2_stat        p_value\n",
      "0        start          17.828936       23.550660  510.597315  4.701714e-113\n",
      "1       step_1           7.904139        8.922307   22.316173   2.312507e-06\n",
      "2       step_2           9.163254        7.421988   56.487925   5.654455e-14\n",
      "3       step_3           0.570301        0.111995   76.828114   1.865037e-18\n",
      "4      confirm           0.000000        0.000000         NaN   1.000000e+00\n"
     ]
    },
    {
     "name": "stderr",
     "output_type": "stream",
     "text": [
      "/var/folders/zv/n5tftmvs15g6v9bt94cd5v400000gn/T/ipykernel_35814/2390520583.py:14: FutureWarning: Calling int on a single element Series is deprecated and will raise a TypeError in the future. Use int(ser.iloc[0]) instead\n",
      "  [int(control_row['n_errors']), int(control_row['n_visits'] - control_row['n_errors'])],\n",
      "/var/folders/zv/n5tftmvs15g6v9bt94cd5v400000gn/T/ipykernel_35814/2390520583.py:14: FutureWarning: Calling int on a single element Series is deprecated and will raise a TypeError in the future. Use int(ser.iloc[0]) instead\n",
      "  [int(control_row['n_errors']), int(control_row['n_visits'] - control_row['n_errors'])],\n",
      "/var/folders/zv/n5tftmvs15g6v9bt94cd5v400000gn/T/ipykernel_35814/2390520583.py:15: FutureWarning: Calling int on a single element Series is deprecated and will raise a TypeError in the future. Use int(ser.iloc[0]) instead\n",
      "  [int(test_row['n_errors']),    int(test_row['n_visits'] - test_row['n_errors'])]\n",
      "/var/folders/zv/n5tftmvs15g6v9bt94cd5v400000gn/T/ipykernel_35814/2390520583.py:15: FutureWarning: Calling int on a single element Series is deprecated and will raise a TypeError in the future. Use int(ser.iloc[0]) instead\n",
      "  [int(test_row['n_errors']),    int(test_row['n_visits'] - test_row['n_errors'])]\n",
      "/var/folders/zv/n5tftmvs15g6v9bt94cd5v400000gn/T/ipykernel_35814/2390520583.py:27: FutureWarning: Calling float on a single element Series is deprecated and will raise a TypeError in the future. Use float(ser.iloc[0]) instead\n",
      "  'error_pct_control': float(control_row['error_pct']),\n",
      "/var/folders/zv/n5tftmvs15g6v9bt94cd5v400000gn/T/ipykernel_35814/2390520583.py:28: FutureWarning: Calling float on a single element Series is deprecated and will raise a TypeError in the future. Use float(ser.iloc[0]) instead\n",
      "  'error_pct_test': float(test_row['error_pct']),\n",
      "/var/folders/zv/n5tftmvs15g6v9bt94cd5v400000gn/T/ipykernel_35814/2390520583.py:14: FutureWarning: Calling int on a single element Series is deprecated and will raise a TypeError in the future. Use int(ser.iloc[0]) instead\n",
      "  [int(control_row['n_errors']), int(control_row['n_visits'] - control_row['n_errors'])],\n",
      "/var/folders/zv/n5tftmvs15g6v9bt94cd5v400000gn/T/ipykernel_35814/2390520583.py:14: FutureWarning: Calling int on a single element Series is deprecated and will raise a TypeError in the future. Use int(ser.iloc[0]) instead\n",
      "  [int(control_row['n_errors']), int(control_row['n_visits'] - control_row['n_errors'])],\n",
      "/var/folders/zv/n5tftmvs15g6v9bt94cd5v400000gn/T/ipykernel_35814/2390520583.py:15: FutureWarning: Calling int on a single element Series is deprecated and will raise a TypeError in the future. Use int(ser.iloc[0]) instead\n",
      "  [int(test_row['n_errors']),    int(test_row['n_visits'] - test_row['n_errors'])]\n",
      "/var/folders/zv/n5tftmvs15g6v9bt94cd5v400000gn/T/ipykernel_35814/2390520583.py:15: FutureWarning: Calling int on a single element Series is deprecated and will raise a TypeError in the future. Use int(ser.iloc[0]) instead\n",
      "  [int(test_row['n_errors']),    int(test_row['n_visits'] - test_row['n_errors'])]\n",
      "/var/folders/zv/n5tftmvs15g6v9bt94cd5v400000gn/T/ipykernel_35814/2390520583.py:27: FutureWarning: Calling float on a single element Series is deprecated and will raise a TypeError in the future. Use float(ser.iloc[0]) instead\n",
      "  'error_pct_control': float(control_row['error_pct']),\n",
      "/var/folders/zv/n5tftmvs15g6v9bt94cd5v400000gn/T/ipykernel_35814/2390520583.py:28: FutureWarning: Calling float on a single element Series is deprecated and will raise a TypeError in the future. Use float(ser.iloc[0]) instead\n",
      "  'error_pct_test': float(test_row['error_pct']),\n",
      "/var/folders/zv/n5tftmvs15g6v9bt94cd5v400000gn/T/ipykernel_35814/2390520583.py:14: FutureWarning: Calling int on a single element Series is deprecated and will raise a TypeError in the future. Use int(ser.iloc[0]) instead\n",
      "  [int(control_row['n_errors']), int(control_row['n_visits'] - control_row['n_errors'])],\n",
      "/var/folders/zv/n5tftmvs15g6v9bt94cd5v400000gn/T/ipykernel_35814/2390520583.py:14: FutureWarning: Calling int on a single element Series is deprecated and will raise a TypeError in the future. Use int(ser.iloc[0]) instead\n",
      "  [int(control_row['n_errors']), int(control_row['n_visits'] - control_row['n_errors'])],\n",
      "/var/folders/zv/n5tftmvs15g6v9bt94cd5v400000gn/T/ipykernel_35814/2390520583.py:15: FutureWarning: Calling int on a single element Series is deprecated and will raise a TypeError in the future. Use int(ser.iloc[0]) instead\n",
      "  [int(test_row['n_errors']),    int(test_row['n_visits'] - test_row['n_errors'])]\n",
      "/var/folders/zv/n5tftmvs15g6v9bt94cd5v400000gn/T/ipykernel_35814/2390520583.py:15: FutureWarning: Calling int on a single element Series is deprecated and will raise a TypeError in the future. Use int(ser.iloc[0]) instead\n",
      "  [int(test_row['n_errors']),    int(test_row['n_visits'] - test_row['n_errors'])]\n",
      "/var/folders/zv/n5tftmvs15g6v9bt94cd5v400000gn/T/ipykernel_35814/2390520583.py:27: FutureWarning: Calling float on a single element Series is deprecated and will raise a TypeError in the future. Use float(ser.iloc[0]) instead\n",
      "  'error_pct_control': float(control_row['error_pct']),\n",
      "/var/folders/zv/n5tftmvs15g6v9bt94cd5v400000gn/T/ipykernel_35814/2390520583.py:28: FutureWarning: Calling float on a single element Series is deprecated and will raise a TypeError in the future. Use float(ser.iloc[0]) instead\n",
      "  'error_pct_test': float(test_row['error_pct']),\n",
      "/var/folders/zv/n5tftmvs15g6v9bt94cd5v400000gn/T/ipykernel_35814/2390520583.py:14: FutureWarning: Calling int on a single element Series is deprecated and will raise a TypeError in the future. Use int(ser.iloc[0]) instead\n",
      "  [int(control_row['n_errors']), int(control_row['n_visits'] - control_row['n_errors'])],\n",
      "/var/folders/zv/n5tftmvs15g6v9bt94cd5v400000gn/T/ipykernel_35814/2390520583.py:14: FutureWarning: Calling int on a single element Series is deprecated and will raise a TypeError in the future. Use int(ser.iloc[0]) instead\n",
      "  [int(control_row['n_errors']), int(control_row['n_visits'] - control_row['n_errors'])],\n",
      "/var/folders/zv/n5tftmvs15g6v9bt94cd5v400000gn/T/ipykernel_35814/2390520583.py:15: FutureWarning: Calling int on a single element Series is deprecated and will raise a TypeError in the future. Use int(ser.iloc[0]) instead\n",
      "  [int(test_row['n_errors']),    int(test_row['n_visits'] - test_row['n_errors'])]\n",
      "/var/folders/zv/n5tftmvs15g6v9bt94cd5v400000gn/T/ipykernel_35814/2390520583.py:15: FutureWarning: Calling int on a single element Series is deprecated and will raise a TypeError in the future. Use int(ser.iloc[0]) instead\n",
      "  [int(test_row['n_errors']),    int(test_row['n_visits'] - test_row['n_errors'])]\n",
      "/var/folders/zv/n5tftmvs15g6v9bt94cd5v400000gn/T/ipykernel_35814/2390520583.py:27: FutureWarning: Calling float on a single element Series is deprecated and will raise a TypeError in the future. Use float(ser.iloc[0]) instead\n",
      "  'error_pct_control': float(control_row['error_pct']),\n",
      "/var/folders/zv/n5tftmvs15g6v9bt94cd5v400000gn/T/ipykernel_35814/2390520583.py:28: FutureWarning: Calling float on a single element Series is deprecated and will raise a TypeError in the future. Use float(ser.iloc[0]) instead\n",
      "  'error_pct_test': float(test_row['error_pct']),\n",
      "/var/folders/zv/n5tftmvs15g6v9bt94cd5v400000gn/T/ipykernel_35814/2390520583.py:14: FutureWarning: Calling int on a single element Series is deprecated and will raise a TypeError in the future. Use int(ser.iloc[0]) instead\n",
      "  [int(control_row['n_errors']), int(control_row['n_visits'] - control_row['n_errors'])],\n",
      "/var/folders/zv/n5tftmvs15g6v9bt94cd5v400000gn/T/ipykernel_35814/2390520583.py:14: FutureWarning: Calling int on a single element Series is deprecated and will raise a TypeError in the future. Use int(ser.iloc[0]) instead\n",
      "  [int(control_row['n_errors']), int(control_row['n_visits'] - control_row['n_errors'])],\n",
      "/var/folders/zv/n5tftmvs15g6v9bt94cd5v400000gn/T/ipykernel_35814/2390520583.py:15: FutureWarning: Calling int on a single element Series is deprecated and will raise a TypeError in the future. Use int(ser.iloc[0]) instead\n",
      "  [int(test_row['n_errors']),    int(test_row['n_visits'] - test_row['n_errors'])]\n",
      "/var/folders/zv/n5tftmvs15g6v9bt94cd5v400000gn/T/ipykernel_35814/2390520583.py:15: FutureWarning: Calling int on a single element Series is deprecated and will raise a TypeError in the future. Use int(ser.iloc[0]) instead\n",
      "  [int(test_row['n_errors']),    int(test_row['n_visits'] - test_row['n_errors'])]\n",
      "/var/folders/zv/n5tftmvs15g6v9bt94cd5v400000gn/T/ipykernel_35814/2390520583.py:27: FutureWarning: Calling float on a single element Series is deprecated and will raise a TypeError in the future. Use float(ser.iloc[0]) instead\n",
      "  'error_pct_control': float(control_row['error_pct']),\n",
      "/var/folders/zv/n5tftmvs15g6v9bt94cd5v400000gn/T/ipykernel_35814/2390520583.py:28: FutureWarning: Calling float on a single element Series is deprecated and will raise a TypeError in the future. Use float(ser.iloc[0]) instead\n",
      "  'error_pct_test': float(test_row['error_pct']),\n"
     ]
    }
   ],
   "source": [
    "from scipy.stats import chi2_contingency, fisher_exact\n",
    "import numpy as np\n",
    "\n",
    "results = []\n",
    "\n",
    "for step in step_order:\n",
    "    control_row = error_counts[(error_counts['Variation']=='Control') & \n",
    "                               (error_counts['process_step']==step)]\n",
    "    test_row    = error_counts[(error_counts['Variation']=='Test') & \n",
    "                               (error_counts['process_step']==step)]\n",
    "    \n",
    "    if not control_row.empty and not test_row.empty:\n",
    "        table = [\n",
    "            [int(control_row['n_errors']), int(control_row['n_visits'] - control_row['n_errors'])],\n",
    "            [int(test_row['n_errors']),    int(test_row['n_visits'] - test_row['n_errors'])]\n",
    "        ]\n",
    "        \n",
    "        # Si une des cellules = 0, utiliser Fisher exact\n",
    "        if 0 in np.array(table):\n",
    "            oddsratio, p_val = fisher_exact(table)\n",
    "            chi2_stat = np.nan  # pas de chi2 valide\n",
    "        else:\n",
    "            chi2_stat, p_val, dof, expected = chi2_contingency(table)\n",
    "        \n",
    "        results.append({\n",
    "            'process_step': step,\n",
    "            'error_pct_control': float(control_row['error_pct']),\n",
    "            'error_pct_test': float(test_row['error_pct']),\n",
    "            'chi2_stat': chi2_stat,\n",
    "            'p_value': p_val\n",
    "        })\n",
    "\n",
    "results_df = pd.DataFrame(results)\n",
    "print(results_df)"
   ]
  },
  {
   "cell_type": "markdown",
   "id": "f710650b",
   "metadata": {},
   "source": [
    "**Overall Interpretation**\n",
    "\n",
    "👉Test Weaknesses:\n",
    "\n",
    "start and step_1: increased errors → the new interface is less intuitive at first.\n",
    "\n",
    "👉Test Highlights:\n",
    "\n",
    "Step 2 and Step 3: Significant reduction in errors → the new interface improves progress through the process.\n",
    "\n",
    "Final confirmation: No issues, which is expected.\n",
    "\n",
    "💡 **Conclusion**\n",
    "\n",
    "The new interface has a mixed effect: it helps progress after the first step, but the beginning of the journey is more confusing.\n",
    "\n",
    "Work should be done on the start page and Step 1 to reduce errors from the start."
   ]
  },
  {
   "cell_type": "code",
   "execution_count": 274,
   "id": "67a8836a",
   "metadata": {},
   "outputs": [],
   "source": [
    "#####################################################"
   ]
  },
  {
   "cell_type": "markdown",
   "id": "5ceabba0",
   "metadata": {},
   "source": [
    "- Confirmed if the difference in completion rate of the the new design and the old design is statistically significant.\n",
    "\n",
    "- Carried out an analysis ensuring that the observed increase in completion rate from the A/B test meets or exceeds this 5% threshold.\n",
    "\n",
    "- Carried out another hypothesis test of your choosing.\n",
    "\n",
    "- Evaluated the experiment by answering questions relating to:\n",
    "\n",
    "Design Effectiveness\n",
    "\n",
    "Duration\n",
    "\n",
    "Additional Data Needs"
   ]
  },
  {
   "cell_type": "code",
   "execution_count": null,
   "id": "226eeb54",
   "metadata": {},
   "outputs": [],
   "source": []
  },
  {
   "cell_type": "markdown",
   "id": "49712189",
   "metadata": {},
   "source": [
    "### Test whether the difference in completion rates is significant\n",
    "\n",
    "👉 Definition: A customer completes if their journey reaches the \"confirm\" stage."
   ]
  },
  {
   "cell_type": "code",
   "execution_count": 277,
   "id": "18b0407d",
   "metadata": {},
   "outputs": [
    {
     "name": "stdout",
     "output_type": "stream",
     "text": [
      "Contingency table:\n",
      " completed  False  True \n",
      "Variation              \n",
      "Control     8098  15434\n",
      "Test        8281  18687\n",
      "\n",
      "Chi2 = 78.59, p-value = 0.0000\n"
     ]
    }
   ],
   "source": [
    "from scipy.stats import chi2_contingency\n",
    "\n",
    "\n",
    "# Identify completion by client\n",
    "completion_per_client = df_variation.groupby([\"client_id\", \"Variation\"])[\"process_step\"].apply(lambda x: \"confirm\" in x.values).reset_index()\n",
    "completion_per_client.rename(columns={0: \"completed\"}, inplace=True)\n",
    "\n",
    "# Completion by client\n",
    "completion_per_client = (\n",
    "    df_variation.groupby([\"client_id\", \"Variation\"])[\"process_step\"]\n",
    "    .apply(lambda steps: \"confirm\" in steps.values)\n",
    "    .reset_index()\n",
    ")\n",
    "\n",
    "# Rename the column\n",
    "completion_per_client = completion_per_client.rename(columns={\"process_step\": \"completed\"})\n",
    "\n",
    "# Contingency table\n",
    "contingency = pd.crosstab(completion_per_client[\"Variation\"], completion_per_client[\"completed\"])\n",
    "print(\"Contingency table:\\n\", contingency)\n",
    "\n",
    "# Test Chi2\n",
    "chi2, p, dof, expected = chi2_contingency(contingency)\n",
    "print(f\"\\nChi2 = {chi2:.2f}, p-value = {p:.4f}\")\n"
   ]
  },
  {
   "cell_type": "markdown",
   "id": "82b2403b",
   "metadata": {},
   "source": [
    "H0 : There is no difference between Test & Control.\n",
    "\n",
    "H1: There is a real difference (the design has an effect).\n",
    "\n",
    "\n",
    "**The p-value is much smaller than 0.05**\n",
    "\n",
    "👉 We reject the null hypothesis (H₀: no difference).\n",
    "\n",
    "👉 Therefore, there is a statistically significant difference between the Test group and the Control group.\n",
    "\n",
    "This means that the new design (Test) and the old design (Control) do not have the same completion rate.\n",
    "→ The difference is not due to chance, but to experience (the design)."
   ]
  },
  {
   "cell_type": "markdown",
   "id": "f6a24e4f",
   "metadata": {},
   "source": [
    "Compare the actual completion rates of the two groups :"
   ]
  },
  {
   "cell_type": "code",
   "execution_count": 278,
   "id": "2270f65a",
   "metadata": {},
   "outputs": [
    {
     "name": "stdout",
     "output_type": "stream",
     "text": [
      "Variation\n",
      "Control    65.587285\n",
      "Test       69.293236\n",
      "Name: completed, dtype: float64\n"
     ]
    }
   ],
   "source": [
    "completion_rates = completion_per_client.groupby(\"Variation\")[\"completed\"].mean() * 100\n",
    "print(completion_rates)"
   ]
  },
  {
   "cell_type": "markdown",
   "id": "d2934230",
   "metadata": {},
   "source": [
    "The Test group (new design) had a completion rate of 69.3%, higher than the Control group (65.6%).\n",
    "\n",
    "Absolute difference: 69.29 − 65.59 ≈ 3.7 points\n",
    "\n",
    "**Statistical interpretation** \n",
    "\n",
    "Chi-square test: Chi-square = 78.59, p-value < 0.0001\n",
    "\n",
    "**The difference is statistically significant → the new design has a real effect on completion.**\n",
    "\n",
    "\n",
    "The new design increases the completion rate from 65.6% to 69.3%. This difference is statistically significant (Chi² = 78.59, p < 0.001), but does not reach the 5 percentage point threshold defined as the business objective."
   ]
  },
  {
   "cell_type": "code",
   "execution_count": 279,
   "id": "8a0cada1",
   "metadata": {},
   "outputs": [],
   "source": [
    "#####################################################"
   ]
  },
  {
   "cell_type": "markdown",
   "id": "5d73e382",
   "metadata": {},
   "source": [
    "### The effect of age on completion"
   ]
  },
  {
   "cell_type": "markdown",
   "id": "884259b5",
   "metadata": {},
   "source": [
    "H0 : Completion is independent of age.\n",
    "\n",
    "H1 : Completion depends on age."
   ]
  },
  {
   "cell_type": "code",
   "execution_count": 280,
   "id": "a5c68531",
   "metadata": {},
   "outputs": [
    {
     "name": "stdout",
     "output_type": "stream",
     "text": [
      "   client_id  completed    age_group\n",
      "0        555       True        young\n",
      "1        647       True  middle-aged\n",
      "2        934      False  middle-aged\n",
      "3       1028      False  middle-aged\n",
      "4       1104      False  middle-aged\n"
     ]
    }
   ],
   "source": [
    "# Create mapping client_id → age_group\n",
    "age_group_map = df_variation.groupby('client_id')['age_group'].first()\n",
    "\n",
    "# Add column age_group in completion_per_client\n",
    "completion_per_client['age_group'] = completion_per_client['client_id'].map(age_group_map)\n",
    "\n",
    "print(completion_per_client[['client_id', 'completed', 'age_group']].head())"
   ]
  },
  {
   "cell_type": "code",
   "execution_count": 281,
   "id": "bb886dce",
   "metadata": {},
   "outputs": [
    {
     "name": "stderr",
     "output_type": "stream",
     "text": [
      "/var/folders/zv/n5tftmvs15g6v9bt94cd5v400000gn/T/ipykernel_35814/1672023790.py:2: FutureWarning: The default of observed=False is deprecated and will be changed to True in a future version of pandas. Pass observed=False to retain current behavior or observed=True to adopt the future default and silence this warning.\n",
      "  completion_by_age = completion_per_client.groupby(['Variation','age_group'])['completed'].mean().reset_index()\n"
     ]
    },
    {
     "data": {
      "text/html": [
       "<div>\n",
       "<style scoped>\n",
       "    .dataframe tbody tr th:only-of-type {\n",
       "        vertical-align: middle;\n",
       "    }\n",
       "\n",
       "    .dataframe tbody tr th {\n",
       "        vertical-align: top;\n",
       "    }\n",
       "\n",
       "    .dataframe thead th {\n",
       "        text-align: right;\n",
       "    }\n",
       "</style>\n",
       "<table border=\"1\" class=\"dataframe\">\n",
       "  <thead>\n",
       "    <tr style=\"text-align: right;\">\n",
       "      <th></th>\n",
       "      <th>Variation</th>\n",
       "      <th>age_group</th>\n",
       "      <th>completed</th>\n",
       "      <th>completion_pct</th>\n",
       "    </tr>\n",
       "  </thead>\n",
       "  <tbody>\n",
       "    <tr>\n",
       "      <th>0</th>\n",
       "      <td>Control</td>\n",
       "      <td>young</td>\n",
       "      <td>0.674408</td>\n",
       "      <td>67.440758</td>\n",
       "    </tr>\n",
       "    <tr>\n",
       "      <th>1</th>\n",
       "      <td>Control</td>\n",
       "      <td>middle-aged</td>\n",
       "      <td>0.671952</td>\n",
       "      <td>67.195155</td>\n",
       "    </tr>\n",
       "    <tr>\n",
       "      <th>2</th>\n",
       "      <td>Control</td>\n",
       "      <td>senior</td>\n",
       "      <td>0.603770</td>\n",
       "      <td>60.377041</td>\n",
       "    </tr>\n",
       "    <tr>\n",
       "      <th>3</th>\n",
       "      <td>Test</td>\n",
       "      <td>young</td>\n",
       "      <td>0.725414</td>\n",
       "      <td>72.541422</td>\n",
       "    </tr>\n",
       "    <tr>\n",
       "      <th>4</th>\n",
       "      <td>Test</td>\n",
       "      <td>middle-aged</td>\n",
       "      <td>0.694293</td>\n",
       "      <td>69.429284</td>\n",
       "    </tr>\n",
       "    <tr>\n",
       "      <th>5</th>\n",
       "      <td>Test</td>\n",
       "      <td>senior</td>\n",
       "      <td>0.651957</td>\n",
       "      <td>65.195708</td>\n",
       "    </tr>\n",
       "  </tbody>\n",
       "</table>\n",
       "</div>"
      ],
      "text/plain": [
       "  Variation    age_group  completed  completion_pct\n",
       "0   Control        young   0.674408       67.440758\n",
       "1   Control  middle-aged   0.671952       67.195155\n",
       "2   Control       senior   0.603770       60.377041\n",
       "3      Test        young   0.725414       72.541422\n",
       "4      Test  middle-aged   0.694293       69.429284\n",
       "5      Test       senior   0.651957       65.195708"
      ]
     },
     "execution_count": 281,
     "metadata": {},
     "output_type": "execute_result"
    }
   ],
   "source": [
    "# Completion rate by age_group and variation\n",
    "completion_by_age = completion_per_client.groupby(['Variation','age_group'])['completed'].mean().reset_index()\n",
    "\n",
    "# Percentage\n",
    "completion_by_age['completion_pct'] = completion_by_age['completed'] * 100\n",
    "\n",
    "completion_by_age"
   ]
  },
  {
   "cell_type": "code",
   "execution_count": 282,
   "id": "a7f797bb",
   "metadata": {},
   "outputs": [
    {
     "data": {
      "image/png": "[encoded data removed]",
      "text/plain": [
       "<Figure size 700x400 with 1 Axes>"
      ]
     },
     "metadata": {},
     "output_type": "display_data"
    }
   ],
   "source": [
    "plt.figure(figsize=(7,4))\n",
    "sns.barplot(\n",
    "    data=completion_by_age,\n",
    "    x='age_group',\n",
    "    y='completion_pct',\n",
    "    hue='Variation',\n",
    "    order=['young','middle-aged','senior'] \n",
    ")\n",
    "\n",
    "plt.title(\"Effect of Age on Completion - Control vs Test\", fontsize=14)\n",
    "plt.xlabel(\"Age Group\")\n",
    "plt.ylabel(\"Completion Rate (%)\")\n",
    "plt.ylim(0, 100)\n",
    "plt.legend(title=\"Variation\")\n",
    "plt.tight_layout()\n",
    "plt.show()"
   ]
  },
  {
   "cell_type": "code",
   "execution_count": 283,
   "id": "5723da10",
   "metadata": {},
   "outputs": [
    {
     "name": "stdout",
     "output_type": "stream",
     "text": [
      "Control - Chi2 = 93.85974649352796 p-value = 4.155420830583847e-21\n"
     ]
    }
   ],
   "source": [
    "# Control\n",
    "control_df = completion_per_client[completion_per_client['Variation']=='Control']\n",
    "\n",
    "# Tableau de contingence : age_group vs completed\n",
    "cont_table_control = pd.crosstab(control_df['age_group'], control_df['completed'])\n",
    "\n",
    "# Chi2 test\n",
    "chi2_stat, p_val, dof, expected = chi2_contingency(cont_table_control)\n",
    "\n",
    "print(\"Control - Chi2 =\", chi2_stat, \"p-value =\", p_val)\n"
   ]
  },
  {
   "cell_type": "markdown",
   "id": "13e713c7",
   "metadata": {},
   "source": [
    "👉 Completion is **highly age-dependent in the control group.**\n",
    "\n",
    "👉 Some age groups successfully complete the process more often than others."
   ]
  },
  {
   "cell_type": "code",
   "execution_count": 284,
   "id": "917f8792",
   "metadata": {},
   "outputs": [
    {
     "name": "stdout",
     "output_type": "stream",
     "text": [
      "Test - Chi2 = 89.35148149263246 p-value = 3.958879828123573e-20\n"
     ]
    }
   ],
   "source": [
    "# Test\n",
    "test_df = completion_per_client[completion_per_client['Variation']=='Test']\n",
    "\n",
    "# Tableau de contingence : age_group vs completed\n",
    "cont_table_test = pd.crosstab(test_df['age_group'], test_df['completed'])\n",
    "\n",
    "# Chi2 test\n",
    "chi2_stat, p_val, dof, expected = chi2_contingency(cont_table_test)\n",
    "\n",
    "print(\"Test - Chi2 =\", chi2_stat, \"p-value =\", p_val)\n"
   ]
  },
  {
   "cell_type": "markdown",
   "id": "0b6037fe",
   "metadata": {},
   "source": [
    "👉 The same observation applies to the Test group.\n",
    "\n",
    "👉 **Age influences completion even with the new interface**, but the effect may vary slightly depending on the age group."
   ]
  },
  {
   "cell_type": "code",
   "execution_count": 285,
   "id": "aed825a2",
   "metadata": {},
   "outputs": [
    {
     "name": "stdout",
     "output_type": "stream",
     "text": [
      "age_group\n",
      "young          70.204141\n",
      "middle-aged    68.386480\n",
      "senior         62.916069\n",
      "Name: completed, dtype: float64\n"
     ]
    },
    {
     "name": "stderr",
     "output_type": "stream",
     "text": [
      "/var/folders/zv/n5tftmvs15g6v9bt94cd5v400000gn/T/ipykernel_35814/2518283254.py:2: FutureWarning: The default of observed=False is deprecated and will be changed to True in a future version of pandas. Pass observed=False to retain current behavior or observed=True to adopt the future default and silence this warning.\n",
      "  completion_by_age = completion_per_client.groupby(\"age_group\")[\"completed\"].mean() * 100\n"
     ]
    }
   ],
   "source": [
    "# Completion rate by group\n",
    "completion_by_age = completion_per_client.groupby(\"age_group\")[\"completed\"].mean() * 100\n",
    "print(completion_by_age)"
   ]
  },
  {
   "cell_type": "markdown",
   "id": "245bf89f",
   "metadata": {},
   "source": [
    "**H0 is rejected: completion depends on age in the Control et Test group.**\n",
    "\n",
    "Age therefore significantly influences the likelihood of a customer completing the process.\n",
    "\n",
    "**Business Interpretation**\n",
    "\n",
    "Younger and middle-aged customers are more likely to complete the process.\n",
    "\n",
    "Seniors complete the process less often, which may indicate a need for support or a UX tailored to this segment."
   ]
  },
  {
   "cell_type": "code",
   "execution_count": 286,
   "id": "1cac2f72",
   "metadata": {},
   "outputs": [
    {
     "name": "stderr",
     "output_type": "stream",
     "text": [
      "/var/folders/zv/n5tftmvs15g6v9bt94cd5v400000gn/T/ipykernel_35814/2319583430.py:9: FutureWarning: The default of observed=False is deprecated and will be changed to True in a future version of pandas. Pass observed=False to retain current behavior or observed=True to adopt the future default and silence this warning.\n",
      "  .groupby(['Variation','age_group'])['completed']\n"
     ]
    },
    {
     "data": {
      "image/png": "[encoded data removed]",
      "text/plain": [
       "<Figure size 700x400 with 1 Axes>"
      ]
     },
     "metadata": {},
     "output_type": "display_data"
    }
   ],
   "source": [
    "# Visualization\n",
    "# order age_group \n",
    "age_order = ['young','middle-aged','senior']  # adapter selon tes tranches\n",
    "completion_per_client['age_group'] = pd.Categorical(completion_per_client['age_group'], \n",
    "                                                    categories=age_order, ordered=True)\n",
    "\n",
    "# Completion rate by age_group and variation\n",
    "completion_by_age = (completion_per_client\n",
    "                     .groupby(['Variation','age_group'])['completed']\n",
    "                     .mean()\n",
    "                     .reset_index())\n",
    "completion_by_age['completion_pct'] = completion_by_age['completed'] * 100\n",
    "\n",
    "# Plot\n",
    "plt.figure(figsize=(7,4))\n",
    "sns.barplot(\n",
    "    data=completion_by_age,\n",
    "    x='age_group',\n",
    "    y='completion_pct',\n",
    "    hue='Variation',\n",
    "    order=age_order\n",
    ")\n",
    "\n",
    "# Exact value\n",
    "for i, row in completion_by_age.iterrows():\n",
    "    plt.text(\n",
    "        x=age_order.index(row['age_group']) + (-0.2 if row['Variation']=='Control' else 0.2),\n",
    "        y=row['completion_pct'] + 1,\n",
    "        s=f\"{row['completion_pct']:.1f}%\",\n",
    "        ha='center',\n",
    "        fontsize=10\n",
    "    )\n",
    "\n",
    "plt.title(\"Effect of Age on Completion - Control vs Test\", fontsize=14)\n",
    "plt.xlabel(\"Age Group\")\n",
    "plt.ylabel(\"Completion Rate (%)\")\n",
    "plt.ylim(0, 100)\n",
    "plt.legend(title=\"Variation\")\n",
    "plt.tight_layout()\n",
    "plt.show()"
   ]
  },
  {
   "cell_type": "markdown",
   "id": "1a58ce78",
   "metadata": {},
   "source": [
    "👉 **The young client better complete the both process.**"
   ]
  },
  {
   "cell_type": "code",
   "execution_count": null,
   "id": "dbec40bd",
   "metadata": {},
   "outputs": [],
   "source": []
  },
  {
   "cell_type": "code",
   "execution_count": null,
   "id": "8170629a",
   "metadata": {},
   "outputs": [],
   "source": []
  },
  {
   "cell_type": "code",
   "execution_count": null,
   "id": "5cfbed20",
   "metadata": {},
   "outputs": [],
   "source": []
  },
  {
   "cell_type": "code",
   "execution_count": null,
   "id": "c4c919d6",
   "metadata": {},
   "outputs": [],
   "source": []
  },
  {
   "cell_type": "code",
   "execution_count": 287,
   "id": "9aacd6af",
   "metadata": {},
   "outputs": [],
   "source": [
    "#####################################################"
   ]
  },
  {
   "cell_type": "markdown",
   "id": "a84fc47b",
   "metadata": {},
   "source": [
    "### Customer Profile"
   ]
  },
  {
   "cell_type": "code",
   "execution_count": 288,
   "id": "4a255be5",
   "metadata": {},
   "outputs": [
    {
     "name": "stdout",
     "output_type": "stream",
     "text": [
      "\n",
      "    Customer Profile :\n",
      "    - Average age : 49 years\n",
      "    - Percentage of young customers (<35 ans) : 25.2%\n",
      "    - Percentage of middle-aged customers (35–60 ans) : 48.1%\n",
      "    - Percentage of seniors customers (>60 ans) : 26.6%\n",
      "    - Average seniority : 12.2 years\n",
      "    - Average account : 2.3\n",
      "    - Median Balance of : 69240\n",
      "    \n"
     ]
    }
   ],
   "source": [
    "def summarize_clients(df):\n",
    "    age_mean = df_variation['clnt_age'].mean()\n",
    "    young_pct = (df_variation['clnt_age'] < 35).mean() * 100\n",
    "    middle_pct = ((df_variation['clnt_age'] >= 35) & (df['clnt_age'] <= 60)).mean() * 100\n",
    "    senior_pct = (df_variation['clnt_age'] > 60).mean() * 100\n",
    "    tenure_mean = df_variation['clnt_tenure_yr'].mean()\n",
    "    num_accts_mean = df_variation['num_accts'].mean()\n",
    "    bal_median = df_variation['bal'].median()\n",
    "    \n",
    "    \n",
    "    summary = f\"\"\"\n",
    "    Customer Profile :\n",
    "    - Average age : {age_mean:.0f} years\n",
    "    - Percentage of young customers (<35 ans) : {young_pct:.1f}%\n",
    "    - Percentage of middle-aged customers (35–60 ans) : {middle_pct:.1f}%\n",
    "    - Percentage of seniors customers (>60 ans) : {senior_pct:.1f}%\n",
    "    - Average seniority : {tenure_mean:.1f} years\n",
    "    - Average account : {num_accts_mean:.1f}\n",
    "    - Median Balance of : {bal_median:.0f}\n",
    "    \"\"\"\n",
    "    return summary\n",
    "\n",
    "print(summarize_clients(df_variation))"
   ]
  },
  {
   "cell_type": "code",
   "execution_count": 289,
   "id": "03d8c0af",
   "metadata": {},
   "outputs": [],
   "source": [
    "########## Who are the primary clients using this online process?\n",
    "\n",
    "# The main customers are : \n",
    "# - mainly middle-aged\n",
    "# - with 12 years of seniority\n",
    "# - 2,3 accounts\n",
    "# - median balance of 69240\n",
    "# - rather active online : 6 logons on 6 months\n",
    "# - divided into 33,6 % men / 32,5 % women / 33.9% U\n",
    "\n",
    "\n",
    "\n",
    "\n",
    "\n",
    "########## Are the primary clients younger or older, new or long-standing?\n",
    "\n",
    "# Test/Control customers are mostly middle-aged (35–60 years old), with an average seniority of 7 years. \n",
    "# Young people (<35) represent X% of the group, while seniors (>65) represent Y%. \n",
    "# We observe that senior people connect more often online, while older customers call the call center more frequently.\n",
    "\n",
    "\n",
    "\n"
   ]
  },
  {
   "cell_type": "code",
   "execution_count": 290,
   "id": "871300d0",
   "metadata": {},
   "outputs": [
    {
     "name": "stdout",
     "output_type": "stream",
     "text": [
      "\n",
      "    Customer Profile who used Control version:\n",
      "    - Average age of Control client: 48 years\n",
      "    - Percentage of young client (<35 ans) : 27.0%\n",
      "    - Percentage of middle-aged customers (35–60 ans) : 22.8%\n",
      "    - Percentage of seniors customers (>60 ans) : 24.1%\n",
      "    - Average seniority : 12.2 years\n",
      "    - Average account : 2.3\n",
      "    - Median Balance of : 69010\n",
      "    \n"
     ]
    }
   ],
   "source": [
    "# Control Version\n",
    "\n",
    "unique_clients = df_variation.drop_duplicates(subset=['client_id'])\n",
    "\n",
    "def summarize_clients_control(df_variation):\n",
    "    age_mean_control = df_variation[df_variation['Variation'] == 'Control']['clnt_age'].mean()\n",
    "    young_pct_control = (unique_clients[unique_clients['Variation'] == 'Control']['clnt_age'] < 35).mean() * 100\n",
    "    middle_pct_control = ((unique_clients['Variation'] == 'Control') & \n",
    "                         (unique_clients['clnt_age'] >= 35) & \n",
    "                         (unique_clients['clnt_age'] <= 60)).mean() * 100\n",
    "    senior_pct_control = (unique_clients[unique_clients['Variation'] == 'Control']['clnt_age'] > 60).mean() * 100\n",
    "    tenure_mean_control = df_variation[df_variation['Variation'] == 'Control']['clnt_tenure_yr'].mean()\n",
    "    num_accts_mean_control = df_variation[df_variation['Variation'] == 'Control']['num_accts'].mean()\n",
    "    bal_median_control = df_variation[df_variation['Variation'] == 'Control']['bal'].median()\n",
    "    \n",
    "\n",
    "    summary = f\"\"\"\n",
    "    Customer Profile who used Control version:\n",
    "    - Average age of Control client: {age_mean_control:.0f} years\n",
    "    - Percentage of young client (<35 ans) : {young_pct_control:.1f}%\n",
    "    - Percentage of middle-aged customers (35–60 ans) : {middle_pct_control:.1f}%\n",
    "    - Percentage of seniors customers (>60 ans) : {senior_pct_control:.1f}%\n",
    "    - Average seniority : {tenure_mean_control:.1f} years\n",
    "    - Average account : {num_accts_mean_control:.1f}\n",
    "    - Median Balance of : {bal_median_control:.0f}\n",
    "    \"\"\"\n",
    "    return summary\n",
    "\n",
    "print(summarize_clients_control(df_variation))"
   ]
  },
  {
   "cell_type": "code",
   "execution_count": 291,
   "id": "da7c1855",
   "metadata": {},
   "outputs": [
    {
     "name": "stdout",
     "output_type": "stream",
     "text": [
      "\n",
      "    Customer Profile who used Test version:\n",
      "    - Average age of Test client: 49 years\n",
      "    - Percentage of young client (<35 ans) : 27.9%\n",
      "    - Percentage of middle-aged customers (35–60 ans) : 25.9%\n",
      "    - Percentage of seniors customers (>60 ans) : 23.6%\n",
      "    - Average seniority : 12.2 years\n",
      "    - Average account : 2.3\n",
      "    - Median Balance of : 69380\n",
      "    \n"
     ]
    }
   ],
   "source": [
    "# Test Version\n",
    "\n",
    "unique_clients = df_variation.drop_duplicates(subset=['client_id'])\n",
    "\n",
    "def summarize_clients_test(df_variation):\n",
    "    age_mean_test = df_variation[df_variation['Variation'] == 'Test']['clnt_age'].mean()\n",
    "    young_pct_test = (unique_clients[unique_clients['Variation'] == 'Test']['clnt_age'] < 35).mean() * 100\n",
    "    middle_pct_test = ((unique_clients['Variation'] == 'Test') & \n",
    "                         (unique_clients['clnt_age'] >= 35) & \n",
    "                         (unique_clients['clnt_age'] <= 60)).mean() * 100\n",
    "    senior_pct_test = (unique_clients[unique_clients['Variation'] == 'Test']['clnt_age'] > 60).mean() * 100\n",
    "    tenure_mean_test = df_variation[df_variation['Variation'] == 'Test']['clnt_tenure_yr'].mean()\n",
    "    num_accts_mean_test = df_variation[df_variation['Variation'] == 'Test']['num_accts'].mean()\n",
    "    bal_median_test = df_variation[df_variation['Variation'] == 'Test']['bal'].median()\n",
    "    \n",
    "\n",
    "    summary = f\"\"\"\n",
    "    Customer Profile who used Test version:\n",
    "    - Average age of Test client: {age_mean_test:.0f} years\n",
    "    - Percentage of young client (<35 ans) : {young_pct_test:.1f}%\n",
    "    - Percentage of middle-aged customers (35–60 ans) : {middle_pct_test:.1f}%\n",
    "    - Percentage of seniors customers (>60 ans) : {senior_pct_test:.1f}%\n",
    "    - Average seniority : {tenure_mean_test:.1f} years\n",
    "    - Average account : {num_accts_mean_test:.1f}\n",
    "    - Median Balance of : {bal_median_test:.0f}\n",
    "    \"\"\"\n",
    "    return summary\n",
    "\n",
    "print(summarize_clients_test(df_variation))"
   ]
  },
  {
   "cell_type": "code",
   "execution_count": null,
   "id": "e3f1b821",
   "metadata": {},
   "outputs": [],
   "source": []
  },
  {
   "cell_type": "code",
   "execution_count": null,
   "id": "6f0b61db",
   "metadata": {},
   "outputs": [],
   "source": []
  },
  {
   "cell_type": "code",
   "execution_count": null,
   "id": "fa16eb31",
   "metadata": {},
   "outputs": [],
   "source": [
    "import csv\n",
    "\n",
    "df_variation.to_csv(\n",
    "    \"df_variation.csv\",\n",
    "    sep=\";\",              # séparateur point-virgule pour Tableau FR\n",
    "    index=False,\n",
    "    encoding=\"utf-8\",\n",
    "    quoting=csv.QUOTE_ALL # entoure toutes les valeurs de guillemets\n",
    ")\n",
    "\n",
    "\n",
    "\n",
    "print(\"✅ DF_VARIATION.csv'\")"
   ]
  },
  {
   "cell_type": "code",
   "execution_count": 309,
   "id": "e3d57e46",
   "metadata": {},
   "outputs": [
    {
     "name": "stdout",
     "output_type": "stream",
     "text": [
      "✅ df_merged.csv'\n"
     ]
    }
   ],
   "source": [
    "df.to_csv(\"df_merged.csv\",\n",
    "    index=False,\n",
    "    encoding=\"utf-8\"\n",
    ")\n",
    "\n",
    "\n",
    "\n",
    "print(\"✅ df_merged.csv'\")"
   ]
  },
  {
   "cell_type": "code",
   "execution_count": 311,
   "id": "c2723aa6",
   "metadata": {},
   "outputs": [
    {
     "name": "stdout",
     "output_type": "stream",
     "text": [
      "✅ time_stats.csv'\n"
     ]
    }
   ],
   "source": [
    "time_stats.to_csv(\"time_stats.csv\", index=False, sep=\";\", encoding=\"utf-8\")\n",
    "print(\"✅ time_stats.csv'\")"
   ]
  },
  {
   "cell_type": "code",
   "execution_count": 312,
   "id": "06974948",
   "metadata": {},
   "outputs": [
    {
     "name": "stdout",
     "output_type": "stream",
     "text": [
      "✅ error_counts.csv'\n"
     ]
    }
   ],
   "source": [
    "error_counts.to_csv(\"error_counts.csv\", index=False, sep=\";\", encoding=\"utf-8\")\n",
    "print(\"✅ error_counts.csv'\")"
   ]
  },
  {
   "cell_type": "markdown",
   "id": "28648f1d",
   "metadata": {},
   "source": [
    "## Metrics"
   ]
  },
  {
   "cell_type": "code",
   "execution_count": 304,
   "id": "6c75045d",
   "metadata": {},
   "outputs": [
    {
     "name": "stdout",
     "output_type": "stream",
     "text": [
      "  Variation                Metric  Value\n",
      "0   Control  Initial Dropout Rate   14.1\n",
      "1   Control       Completion Rate   65.6\n",
      "2      Test  Initial Dropout Rate    9.8\n",
      "3      Test       Completion Rate   69.3\n"
     ]
    }
   ],
   "source": [
    "\n",
    "data = [\n",
    "    {'Variation': 'Control', 'Metric': 'Initial Dropout Rate', 'Value': 14.1},\n",
    "    {'Variation': 'Control', 'Metric': 'Completion Rate', 'Value': 65.6},\n",
    "    {'Variation': 'Test',    'Metric': 'Initial Dropout Rate', 'Value': 9.8},\n",
    "    {'Variation': 'Test',    'Metric': 'Completion Rate', 'Value': 69.3}\n",
    "]\n",
    "\n",
    "df_metrics = pd.DataFrame(data)\n",
    "\n",
    "# Export CSV prêt pour Tableau\n",
    "df_metrics.to_csv(\"completion_metrics.csv\", index=False, sep=\";\", encoding=\"utf-8\", quoting=1)  # quoting=csv.QUOTE_ALL\n",
    "\n",
    "print(df_metrics)\n"
   ]
  }
 ],
 "metadata": {
  "kernelspec": {
   "display_name": "base",
   "language": "python",
   "name": "python3"
  },
  "language_info": {
   "codemirror_mode": {
    "name": "ipython",
    "version": 3
   },
   "file_extension": ".py",
   "mimetype": "text/x-python",
   "name": "python",
   "nbconvert_exporter": "python",
   "pygments_lexer": "ipython3",
   "version": "3.12.2"
  }
 },
 "nbformat": 4,
 "nbformat_minor": 5
}
